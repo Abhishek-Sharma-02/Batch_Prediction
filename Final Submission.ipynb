{
 "cells": [
  {
   "cell_type": "code",
   "execution_count": 1,
   "metadata": {
    "id": "NJMPannfJvl9"
   },
   "outputs": [],
   "source": [
    "import pandas as pd\n",
    "import numpy as np\n",
    "from matplotlib import pyplot as plt\n",
    "from sklearn.metrics import r2_score,mean_squared_error\n",
    "from sklearn.model_selection import train_test_split\n",
    "import warnings\n",
    "import seaborn as sns\n",
    "warnings.filterwarnings(\"ignore\")"
   ]
  },
  {
   "cell_type": "code",
   "execution_count": 2,
   "metadata": {
    "id": "e-jFkiZvJvmA"
   },
   "outputs": [],
   "source": [
    "df=pd.read_csv(r\"C:\\Users\\Namrata\\Downloads\\file\\train.csv\")\n",
    "df_test=pd.read_csv(r'C:\\Users\\Namrata\\Downloads\\file\\test.csv')"
   ]
  },
  {
   "cell_type": "markdown",
   "metadata": {
    "id": "47QQOej-Q2MZ"
   },
   "source": [
    "# New Section"
   ]
  },
  {
   "cell_type": "code",
   "execution_count": 3,
   "metadata": {
    "colab": {
     "base_uri": "https://localhost:8080/",
     "height": 253
    },
    "id": "8YGGWMcGJvmB",
    "outputId": "aae84efd-f1b2-4458-d1cd-eac0dd4cd988"
   },
   "outputs": [
    {
     "data": {
      "text/html": [
       "<div>\n",
       "<style scoped>\n",
       "    .dataframe tbody tr th:only-of-type {\n",
       "        vertical-align: middle;\n",
       "    }\n",
       "\n",
       "    .dataframe tbody tr th {\n",
       "        vertical-align: top;\n",
       "    }\n",
       "\n",
       "    .dataframe thead th {\n",
       "        text-align: right;\n",
       "    }\n",
       "</style>\n",
       "<table border=\"1\" class=\"dataframe\">\n",
       "  <thead>\n",
       "    <tr style=\"text-align: right;\">\n",
       "      <th></th>\n",
       "      <th>Id</th>\n",
       "      <th>x0_t0</th>\n",
       "      <th>x0_t1</th>\n",
       "      <th>x0_t2</th>\n",
       "      <th>x0_t3</th>\n",
       "      <th>x0_t4</th>\n",
       "      <th>x0_t5</th>\n",
       "      <th>x0_t6</th>\n",
       "      <th>x1_t0</th>\n",
       "      <th>x1_t1</th>\n",
       "      <th>...</th>\n",
       "      <th>x53_t5</th>\n",
       "      <th>x53_t6</th>\n",
       "      <th>x54_t0</th>\n",
       "      <th>x54_t1</th>\n",
       "      <th>x54_t2</th>\n",
       "      <th>x54_t3</th>\n",
       "      <th>x54_t4</th>\n",
       "      <th>x54_t5</th>\n",
       "      <th>x54_t6</th>\n",
       "      <th>y2</th>\n",
       "    </tr>\n",
       "  </thead>\n",
       "  <tbody>\n",
       "    <tr>\n",
       "      <th>0</th>\n",
       "      <td>706</td>\n",
       "      <td>762.212216</td>\n",
       "      <td>753.162754</td>\n",
       "      <td>754.610620</td>\n",
       "      <td>762.787135</td>\n",
       "      <td>768.170347</td>\n",
       "      <td>769.815486</td>\n",
       "      <td>750.950000</td>\n",
       "      <td>0.902534</td>\n",
       "      <td>0.873314</td>\n",
       "      <td>...</td>\n",
       "      <td>87.200000</td>\n",
       "      <td>87.2</td>\n",
       "      <td>1.788239</td>\n",
       "      <td>1.883677</td>\n",
       "      <td>1.894829</td>\n",
       "      <td>1.865024</td>\n",
       "      <td>1.755078</td>\n",
       "      <td>2.03000</td>\n",
       "      <td>2.03</td>\n",
       "      <td>0.72</td>\n",
       "    </tr>\n",
       "    <tr>\n",
       "      <th>1</th>\n",
       "      <td>239</td>\n",
       "      <td>762.671780</td>\n",
       "      <td>746.631882</td>\n",
       "      <td>745.807832</td>\n",
       "      <td>755.992886</td>\n",
       "      <td>761.814347</td>\n",
       "      <td>766.110745</td>\n",
       "      <td>762.535189</td>\n",
       "      <td>1.366119</td>\n",
       "      <td>1.358298</td>\n",
       "      <td>...</td>\n",
       "      <td>72.613391</td>\n",
       "      <td>87.2</td>\n",
       "      <td>1.920067</td>\n",
       "      <td>1.820872</td>\n",
       "      <td>1.863998</td>\n",
       "      <td>1.827162</td>\n",
       "      <td>1.964556</td>\n",
       "      <td>1.96579</td>\n",
       "      <td>2.03</td>\n",
       "      <td>0.62</td>\n",
       "    </tr>\n",
       "    <tr>\n",
       "      <th>2</th>\n",
       "      <td>613</td>\n",
       "      <td>766.867777</td>\n",
       "      <td>756.642963</td>\n",
       "      <td>750.059697</td>\n",
       "      <td>756.377980</td>\n",
       "      <td>760.087594</td>\n",
       "      <td>758.380275</td>\n",
       "      <td>750.950000</td>\n",
       "      <td>0.821431</td>\n",
       "      <td>0.825063</td>\n",
       "      <td>...</td>\n",
       "      <td>87.200000</td>\n",
       "      <td>87.2</td>\n",
       "      <td>2.084817</td>\n",
       "      <td>2.019537</td>\n",
       "      <td>2.197232</td>\n",
       "      <td>2.032493</td>\n",
       "      <td>1.976534</td>\n",
       "      <td>2.03000</td>\n",
       "      <td>2.03</td>\n",
       "      <td>0.57</td>\n",
       "    </tr>\n",
       "    <tr>\n",
       "      <th>3</th>\n",
       "      <td>588</td>\n",
       "      <td>751.077287</td>\n",
       "      <td>758.230866</td>\n",
       "      <td>761.391167</td>\n",
       "      <td>763.190054</td>\n",
       "      <td>768.715192</td>\n",
       "      <td>770.447814</td>\n",
       "      <td>750.950000</td>\n",
       "      <td>0.712874</td>\n",
       "      <td>0.744777</td>\n",
       "      <td>...</td>\n",
       "      <td>87.200000</td>\n",
       "      <td>87.2</td>\n",
       "      <td>1.853655</td>\n",
       "      <td>1.848088</td>\n",
       "      <td>1.880007</td>\n",
       "      <td>2.068814</td>\n",
       "      <td>1.871028</td>\n",
       "      <td>2.03000</td>\n",
       "      <td>2.03</td>\n",
       "      <td>1.01</td>\n",
       "    </tr>\n",
       "    <tr>\n",
       "      <th>4</th>\n",
       "      <td>780</td>\n",
       "      <td>772.430815</td>\n",
       "      <td>772.254344</td>\n",
       "      <td>772.322597</td>\n",
       "      <td>771.926261</td>\n",
       "      <td>768.820073</td>\n",
       "      <td>772.908223</td>\n",
       "      <td>750.950000</td>\n",
       "      <td>0.742664</td>\n",
       "      <td>0.676266</td>\n",
       "      <td>...</td>\n",
       "      <td>87.200000</td>\n",
       "      <td>87.2</td>\n",
       "      <td>2.211915</td>\n",
       "      <td>2.387687</td>\n",
       "      <td>2.368041</td>\n",
       "      <td>2.360032</td>\n",
       "      <td>2.352961</td>\n",
       "      <td>2.03000</td>\n",
       "      <td>2.03</td>\n",
       "      <td>-0.42</td>\n",
       "    </tr>\n",
       "  </tbody>\n",
       "</table>\n",
       "<p>5 rows × 387 columns</p>\n",
       "</div>"
      ],
      "text/plain": [
       "    Id       x0_t0       x0_t1       x0_t2       x0_t3       x0_t4  \\\n",
       "0  706  762.212216  753.162754  754.610620  762.787135  768.170347   \n",
       "1  239  762.671780  746.631882  745.807832  755.992886  761.814347   \n",
       "2  613  766.867777  756.642963  750.059697  756.377980  760.087594   \n",
       "3  588  751.077287  758.230866  761.391167  763.190054  768.715192   \n",
       "4  780  772.430815  772.254344  772.322597  771.926261  768.820073   \n",
       "\n",
       "        x0_t5       x0_t6     x1_t0     x1_t1  ...     x53_t5  x53_t6  \\\n",
       "0  769.815486  750.950000  0.902534  0.873314  ...  87.200000    87.2   \n",
       "1  766.110745  762.535189  1.366119  1.358298  ...  72.613391    87.2   \n",
       "2  758.380275  750.950000  0.821431  0.825063  ...  87.200000    87.2   \n",
       "3  770.447814  750.950000  0.712874  0.744777  ...  87.200000    87.2   \n",
       "4  772.908223  750.950000  0.742664  0.676266  ...  87.200000    87.2   \n",
       "\n",
       "     x54_t0    x54_t1    x54_t2    x54_t3    x54_t4   x54_t5  x54_t6    y2  \n",
       "0  1.788239  1.883677  1.894829  1.865024  1.755078  2.03000    2.03  0.72  \n",
       "1  1.920067  1.820872  1.863998  1.827162  1.964556  1.96579    2.03  0.62  \n",
       "2  2.084817  2.019537  2.197232  2.032493  1.976534  2.03000    2.03  0.57  \n",
       "3  1.853655  1.848088  1.880007  2.068814  1.871028  2.03000    2.03  1.01  \n",
       "4  2.211915  2.387687  2.368041  2.360032  2.352961  2.03000    2.03 -0.42  \n",
       "\n",
       "[5 rows x 387 columns]"
      ]
     },
     "execution_count": 3,
     "metadata": {},
     "output_type": "execute_result"
    }
   ],
   "source": [
    "df.head()"
   ]
  },
  {
   "cell_type": "code",
   "execution_count": 4,
   "metadata": {
    "colab": {
     "base_uri": "https://localhost:8080/",
     "height": 363
    },
    "id": "P5iaV7U1JvmB",
    "outputId": "8806bc71-d965-42e5-f90b-95b6c35985d7"
   },
   "outputs": [
    {
     "data": {
      "text/html": [
       "<div>\n",
       "<style scoped>\n",
       "    .dataframe tbody tr th:only-of-type {\n",
       "        vertical-align: middle;\n",
       "    }\n",
       "\n",
       "    .dataframe tbody tr th {\n",
       "        vertical-align: top;\n",
       "    }\n",
       "\n",
       "    .dataframe thead th {\n",
       "        text-align: right;\n",
       "    }\n",
       "</style>\n",
       "<table border=\"1\" class=\"dataframe\">\n",
       "  <thead>\n",
       "    <tr style=\"text-align: right;\">\n",
       "      <th></th>\n",
       "      <th>Id</th>\n",
       "      <th>x0_t0</th>\n",
       "      <th>x0_t1</th>\n",
       "      <th>x0_t2</th>\n",
       "      <th>x0_t3</th>\n",
       "      <th>x0_t4</th>\n",
       "      <th>x0_t5</th>\n",
       "      <th>x0_t6</th>\n",
       "      <th>x1_t0</th>\n",
       "      <th>x1_t1</th>\n",
       "      <th>...</th>\n",
       "      <th>x53_t5</th>\n",
       "      <th>x53_t6</th>\n",
       "      <th>x54_t0</th>\n",
       "      <th>x54_t1</th>\n",
       "      <th>x54_t2</th>\n",
       "      <th>x54_t3</th>\n",
       "      <th>x54_t4</th>\n",
       "      <th>x54_t5</th>\n",
       "      <th>x54_t6</th>\n",
       "      <th>y2</th>\n",
       "    </tr>\n",
       "  </thead>\n",
       "  <tbody>\n",
       "    <tr>\n",
       "      <th>count</th>\n",
       "      <td>794.000000</td>\n",
       "      <td>794.000000</td>\n",
       "      <td>794.000000</td>\n",
       "      <td>794.000000</td>\n",
       "      <td>794.000000</td>\n",
       "      <td>794.000000</td>\n",
       "      <td>794.000000</td>\n",
       "      <td>794.000000</td>\n",
       "      <td>7.940000e+02</td>\n",
       "      <td>7.940000e+02</td>\n",
       "      <td>...</td>\n",
       "      <td>794.000000</td>\n",
       "      <td>794.000000</td>\n",
       "      <td>794.000000</td>\n",
       "      <td>794.000000</td>\n",
       "      <td>794.000000</td>\n",
       "      <td>794.000000</td>\n",
       "      <td>794.000000</td>\n",
       "      <td>794.000000</td>\n",
       "      <td>794.000000</td>\n",
       "      <td>794.000000</td>\n",
       "    </tr>\n",
       "    <tr>\n",
       "      <th>mean</th>\n",
       "      <td>438.658690</td>\n",
       "      <td>754.919194</td>\n",
       "      <td>754.729879</td>\n",
       "      <td>754.646425</td>\n",
       "      <td>754.540917</td>\n",
       "      <td>754.424182</td>\n",
       "      <td>754.535914</td>\n",
       "      <td>752.154530</td>\n",
       "      <td>8.751822e-01</td>\n",
       "      <td>8.713170e-01</td>\n",
       "      <td>...</td>\n",
       "      <td>86.782481</td>\n",
       "      <td>87.233572</td>\n",
       "      <td>1.931834</td>\n",
       "      <td>1.929294</td>\n",
       "      <td>1.929327</td>\n",
       "      <td>1.930606</td>\n",
       "      <td>1.918361</td>\n",
       "      <td>2.004459</td>\n",
       "      <td>2.028760</td>\n",
       "      <td>0.528841</td>\n",
       "    </tr>\n",
       "    <tr>\n",
       "      <th>std</th>\n",
       "      <td>254.610219</td>\n",
       "      <td>13.126818</td>\n",
       "      <td>17.596497</td>\n",
       "      <td>13.928037</td>\n",
       "      <td>13.114229</td>\n",
       "      <td>13.238951</td>\n",
       "      <td>13.424742</td>\n",
       "      <td>7.333076</td>\n",
       "      <td>3.501364e-01</td>\n",
       "      <td>3.526789e-01</td>\n",
       "      <td>...</td>\n",
       "      <td>8.688329</td>\n",
       "      <td>1.375731</td>\n",
       "      <td>0.370322</td>\n",
       "      <td>0.416583</td>\n",
       "      <td>0.375554</td>\n",
       "      <td>0.364132</td>\n",
       "      <td>0.373211</td>\n",
       "      <td>0.184948</td>\n",
       "      <td>0.029712</td>\n",
       "      <td>0.184369</td>\n",
       "    </tr>\n",
       "    <tr>\n",
       "      <th>min</th>\n",
       "      <td>0.000000</td>\n",
       "      <td>694.863409</td>\n",
       "      <td>436.366425</td>\n",
       "      <td>648.518443</td>\n",
       "      <td>689.144977</td>\n",
       "      <td>682.132476</td>\n",
       "      <td>680.739213</td>\n",
       "      <td>704.677729</td>\n",
       "      <td>-1.164153e-11</td>\n",
       "      <td>-1.164153e-11</td>\n",
       "      <td>...</td>\n",
       "      <td>25.000000</td>\n",
       "      <td>75.965148</td>\n",
       "      <td>0.135551</td>\n",
       "      <td>0.141006</td>\n",
       "      <td>0.123514</td>\n",
       "      <td>0.086733</td>\n",
       "      <td>0.032860</td>\n",
       "      <td>0.079038</td>\n",
       "      <td>1.273031</td>\n",
       "      <td>-1.660000</td>\n",
       "    </tr>\n",
       "    <tr>\n",
       "      <th>25%</th>\n",
       "      <td>217.250000</td>\n",
       "      <td>746.507394</td>\n",
       "      <td>746.225540</td>\n",
       "      <td>746.135900</td>\n",
       "      <td>746.381193</td>\n",
       "      <td>746.140993</td>\n",
       "      <td>746.019990</td>\n",
       "      <td>750.950000</td>\n",
       "      <td>6.932981e-01</td>\n",
       "      <td>6.882317e-01</td>\n",
       "      <td>...</td>\n",
       "      <td>87.200000</td>\n",
       "      <td>87.200000</td>\n",
       "      <td>1.804678</td>\n",
       "      <td>1.780031</td>\n",
       "      <td>1.783420</td>\n",
       "      <td>1.802233</td>\n",
       "      <td>1.779655</td>\n",
       "      <td>2.030000</td>\n",
       "      <td>2.030000</td>\n",
       "      <td>0.450000</td>\n",
       "    </tr>\n",
       "    <tr>\n",
       "      <th>50%</th>\n",
       "      <td>438.500000</td>\n",
       "      <td>756.095127</td>\n",
       "      <td>756.750034</td>\n",
       "      <td>755.696801</td>\n",
       "      <td>755.539600</td>\n",
       "      <td>756.077535</td>\n",
       "      <td>755.891258</td>\n",
       "      <td>750.950000</td>\n",
       "      <td>7.969188e-01</td>\n",
       "      <td>7.985343e-01</td>\n",
       "      <td>...</td>\n",
       "      <td>87.200000</td>\n",
       "      <td>87.200000</td>\n",
       "      <td>1.964852</td>\n",
       "      <td>1.951801</td>\n",
       "      <td>1.977931</td>\n",
       "      <td>1.974037</td>\n",
       "      <td>1.944210</td>\n",
       "      <td>2.030000</td>\n",
       "      <td>2.030000</td>\n",
       "      <td>0.580000</td>\n",
       "    </tr>\n",
       "    <tr>\n",
       "      <th>75%</th>\n",
       "      <td>658.750000</td>\n",
       "      <td>764.434651</td>\n",
       "      <td>764.838969</td>\n",
       "      <td>764.572070</td>\n",
       "      <td>764.113391</td>\n",
       "      <td>764.013162</td>\n",
       "      <td>764.111608</td>\n",
       "      <td>750.950000</td>\n",
       "      <td>1.228083e+00</td>\n",
       "      <td>1.230598e+00</td>\n",
       "      <td>...</td>\n",
       "      <td>87.200000</td>\n",
       "      <td>87.200000</td>\n",
       "      <td>2.136718</td>\n",
       "      <td>2.145547</td>\n",
       "      <td>2.136183</td>\n",
       "      <td>2.135681</td>\n",
       "      <td>2.121476</td>\n",
       "      <td>2.030000</td>\n",
       "      <td>2.030000</td>\n",
       "      <td>0.600000</td>\n",
       "    </tr>\n",
       "    <tr>\n",
       "      <th>max</th>\n",
       "      <td>881.000000</td>\n",
       "      <td>790.272046</td>\n",
       "      <td>791.044214</td>\n",
       "      <td>790.588038</td>\n",
       "      <td>789.457827</td>\n",
       "      <td>786.099166</td>\n",
       "      <td>788.762156</td>\n",
       "      <td>785.730598</td>\n",
       "      <td>1.568039e+00</td>\n",
       "      <td>1.596464e+00</td>\n",
       "      <td>...</td>\n",
       "      <td>125.000000</td>\n",
       "      <td>123.653108</td>\n",
       "      <td>3.026312</td>\n",
       "      <td>6.884922</td>\n",
       "      <td>2.994906</td>\n",
       "      <td>2.932883</td>\n",
       "      <td>2.807641</td>\n",
       "      <td>2.729407</td>\n",
       "      <td>2.083415</td>\n",
       "      <td>1.600000</td>\n",
       "    </tr>\n",
       "  </tbody>\n",
       "</table>\n",
       "<p>8 rows × 387 columns</p>\n",
       "</div>"
      ],
      "text/plain": [
       "               Id       x0_t0       x0_t1       x0_t2       x0_t3       x0_t4  \\\n",
       "count  794.000000  794.000000  794.000000  794.000000  794.000000  794.000000   \n",
       "mean   438.658690  754.919194  754.729879  754.646425  754.540917  754.424182   \n",
       "std    254.610219   13.126818   17.596497   13.928037   13.114229   13.238951   \n",
       "min      0.000000  694.863409  436.366425  648.518443  689.144977  682.132476   \n",
       "25%    217.250000  746.507394  746.225540  746.135900  746.381193  746.140993   \n",
       "50%    438.500000  756.095127  756.750034  755.696801  755.539600  756.077535   \n",
       "75%    658.750000  764.434651  764.838969  764.572070  764.113391  764.013162   \n",
       "max    881.000000  790.272046  791.044214  790.588038  789.457827  786.099166   \n",
       "\n",
       "            x0_t5       x0_t6         x1_t0         x1_t1  ...      x53_t5  \\\n",
       "count  794.000000  794.000000  7.940000e+02  7.940000e+02  ...  794.000000   \n",
       "mean   754.535914  752.154530  8.751822e-01  8.713170e-01  ...   86.782481   \n",
       "std     13.424742    7.333076  3.501364e-01  3.526789e-01  ...    8.688329   \n",
       "min    680.739213  704.677729 -1.164153e-11 -1.164153e-11  ...   25.000000   \n",
       "25%    746.019990  750.950000  6.932981e-01  6.882317e-01  ...   87.200000   \n",
       "50%    755.891258  750.950000  7.969188e-01  7.985343e-01  ...   87.200000   \n",
       "75%    764.111608  750.950000  1.228083e+00  1.230598e+00  ...   87.200000   \n",
       "max    788.762156  785.730598  1.568039e+00  1.596464e+00  ...  125.000000   \n",
       "\n",
       "           x53_t6      x54_t0      x54_t1      x54_t2      x54_t3      x54_t4  \\\n",
       "count  794.000000  794.000000  794.000000  794.000000  794.000000  794.000000   \n",
       "mean    87.233572    1.931834    1.929294    1.929327    1.930606    1.918361   \n",
       "std      1.375731    0.370322    0.416583    0.375554    0.364132    0.373211   \n",
       "min     75.965148    0.135551    0.141006    0.123514    0.086733    0.032860   \n",
       "25%     87.200000    1.804678    1.780031    1.783420    1.802233    1.779655   \n",
       "50%     87.200000    1.964852    1.951801    1.977931    1.974037    1.944210   \n",
       "75%     87.200000    2.136718    2.145547    2.136183    2.135681    2.121476   \n",
       "max    123.653108    3.026312    6.884922    2.994906    2.932883    2.807641   \n",
       "\n",
       "           x54_t5      x54_t6          y2  \n",
       "count  794.000000  794.000000  794.000000  \n",
       "mean     2.004459    2.028760    0.528841  \n",
       "std      0.184948    0.029712    0.184369  \n",
       "min      0.079038    1.273031   -1.660000  \n",
       "25%      2.030000    2.030000    0.450000  \n",
       "50%      2.030000    2.030000    0.580000  \n",
       "75%      2.030000    2.030000    0.600000  \n",
       "max      2.729407    2.083415    1.600000  \n",
       "\n",
       "[8 rows x 387 columns]"
      ]
     },
     "execution_count": 4,
     "metadata": {},
     "output_type": "execute_result"
    }
   ],
   "source": [
    "df.describe()"
   ]
  },
  {
   "cell_type": "code",
   "execution_count": 47,
   "metadata": {
    "colab": {
     "base_uri": "https://localhost:8080/"
    },
    "id": "wGkNJeTqJvmC",
    "outputId": "403be5d2-9356-4429-de42-8ec37fd8c1db"
   },
   "outputs": [
    {
     "data": {
      "text/plain": [
       "Id        0\n",
       "x0_t0     0\n",
       "x0_t1     0\n",
       "x0_t2     0\n",
       "x0_t3     0\n",
       "         ..\n",
       "x54_t3    0\n",
       "x54_t4    0\n",
       "x54_t5    0\n",
       "x54_t6    0\n",
       "y2        0\n",
       "Length: 387, dtype: int64"
      ]
     },
     "execution_count": 47,
     "metadata": {},
     "output_type": "execute_result"
    }
   ],
   "source": [
    "df.isnull().sum()"
   ]
  },
  {
   "cell_type": "code",
   "execution_count": 5,
   "metadata": {
    "colab": {
     "base_uri": "https://localhost:8080/",
     "height": 334
    },
    "id": "JOy-koeUJvmC",
    "outputId": "765da80c-7971-4862-ba91-9b6e013f53d0"
   },
   "outputs": [
    {
     "data": {
      "image/png": "[encoded data removed]",
      "text/plain": [
       "<Figure size 432x360 with 1 Axes>"
      ]
     },
     "metadata": {
      "needs_background": "light"
     },
     "output_type": "display_data"
    }
   ],
   "source": [
    "plt.figure(figsize=(6, 5))\n",
    "p = sns.distplot(\n",
    "    df['y2']\n",
    ")\n"
   ]
  },
  {
   "cell_type": "code",
   "execution_count": 6,
   "metadata": {
    "id": "ZUberMd2JvmC"
   },
   "outputs": [],
   "source": [
    "#Standardization of data\n",
    "\n",
    "mod_df = df[(df.y2<=1) &  (df.y2>=0)]\n",
    "mod_df.shape\n",
    "y=mod_df[\"y2\"]\n",
    "\n",
    "\n",
    "\n",
    "\n"
   ]
  },
  {
   "cell_type": "code",
   "execution_count": 7,
   "metadata": {},
   "outputs": [],
   "source": [
    "# check mulitcollinearity using VIF: Variance inflation factor\n",
    "from sklearn.preprocessing import RobustScaler\n",
    "scaler = RobustScaler()\n",
    "X_scaled = scaler.fit_transform(mod_df)\n",
    "from statsmodels.stats.outliers_influence import variance_inflation_factor\n",
    "\n"
   ]
  },
  {
   "cell_type": "code",
   "execution_count": 8,
   "metadata": {},
   "outputs": [],
   "source": [
    "variables = X_scaled\n",
    "vif = pd.DataFrame()\n",
    "vif[\"VIF\"] = [variance_inflation_factor(variables, i) for i in range(variables.shape[1])]\n",
    "vif[\"Features\"] = mod_df.columns"
   ]
  },
  {
   "cell_type": "code",
   "execution_count": 9,
   "metadata": {},
   "outputs": [
    {
     "data": {
      "text/plain": [
       "<matplotlib.collections.PathCollection at 0x1d090f39e50>"
      ]
     },
     "execution_count": 9,
     "metadata": {},
     "output_type": "execute_result"
    },
    {
     "data": {
      "image/png": "[encoded data removed]",
      "text/plain": [
       "<Figure size 1080x432 with 1 Axes>"
      ]
     },
     "metadata": {},
     "output_type": "display_data"
    }
   ],
   "source": [
    "#ploting by removing the outliers\n",
    "sns.set(rc={'figure.figsize':(15,6)})\n",
    "plt.title(\"y2 Analysis\")\n",
    "plt.xlabel(\"Index for X\" )\n",
    "plt.ylabel(\"Values of y2\")\n",
    "plt.scatter(range(vif.shape[0]),np.sort(vif.VIF.values))"
   ]
  },
  {
   "cell_type": "code",
   "execution_count": 342,
   "metadata": {},
   "outputs": [
    {
     "data": {
      "text/plain": [
       "[2.7242753922060197,\n",
       " 3.8836536046549597,\n",
       " 4.057137539432519,\n",
       " 4.932162807667216,\n",
       " 5.093868100256227,\n",
       " 6.0406921477692865,\n",
       " 6.69881462027048,\n",
       " 7.370557321748992,\n",
       " 7.692565148613474,\n",
       " 8.037311156714276,\n",
       " 8.080687817829427,\n",
       " 8.16376088304482,\n",
       " 10.298089786737773,\n",
       " 13.48469141069343,\n",
       " 14.075618501450707,\n",
       " 14.439944877831067,\n",
       " 14.670274514055329,\n",
       " 18.2402671009646,\n",
       " 19.22289531103819,\n",
       " 24.251043981262544,\n",
       " 24.86435366600358,\n",
       " 34.31201698161761,\n",
       " 39.50745803173465,\n",
       " 50.79735950118002,\n",
       " 55.04018398797386,\n",
       " 55.72836170004446,\n",
       " nan,\n",
       " nan,\n",
       " 2.359745777078993,\n",
       " 2.6292989524964665,\n",
       " 3.5722160887259102,\n",
       " 6.138138949488205,\n",
       " 7.524572766006022,\n",
       " 7.926290095271984,\n",
       " 7.935567195692674,\n",
       " 8.391707063142219,\n",
       " 10.081929892461924,\n",
       " 10.938450186596926,\n",
       " 14.044166234664207,\n",
       " 46.66566503218321,\n",
       " 167.04858565886516,\n",
       " 180.58075173949436,\n",
       " 185.3041633360544,\n",
       " 242.20768021256416,\n",
       " 261.4510501232511,\n",
       " 478.42981856618036,\n",
       " 747.4466675748754,\n",
       " 762.3718300129658,\n",
       " 1154.6800314795576,\n",
       " 2206.1004381669545,\n",
       " 4675.2485732929235,\n",
       " 25476.352852657183,\n",
       " 42866.34429909695,\n",
       " 107323.29005170282,\n",
       " 223267.56106561742,\n",
       " 304702.0666946703,\n",
       " 328744.86446626374,\n",
       " 334121.0670075516,\n",
       " 1070811.8337110586,\n",
       " 1694783.3502648126,\n",
       " 1866201.1031443144,\n",
       " 2219256.6732209423,\n",
       " 3558506.2084165253,\n",
       " inf,\n",
       " inf,\n",
       " inf,\n",
       " inf,\n",
       " inf,\n",
       " inf,\n",
       " inf,\n",
       " nan,\n",
       " nan,\n",
       " nan,\n",
       " nan,\n",
       " nan,\n",
       " nan,\n",
       " nan,\n",
       " 1.416773698121992,\n",
       " 1.4633436157571127,\n",
       " 1.7807073000598035,\n",
       " 2.0433825153593124,\n",
       " 2.17305049487489,\n",
       " 2.351527678878396,\n",
       " 2.3776317840916232,\n",
       " 2.663637730841889,\n",
       " 2.6841213607886476,\n",
       " 2.6943951737348733,\n",
       " 2.7522469915852104,\n",
       " 2.757502813219993,\n",
       " 2.7849557968195287,\n",
       " 2.8473887372743985,\n",
       " 2.971635120949206,\n",
       " 3.084562231443626,\n",
       " 3.2296075944899445,\n",
       " 3.2472416686353793,\n",
       " 3.2499016445452806,\n",
       " 3.259962720339491,\n",
       " 3.3018476783024884,\n",
       " 3.417946096158549,\n",
       " 3.4425976688979367,\n",
       " 3.58820352687704,\n",
       " 3.7547649952640785,\n",
       " 3.795099639870041,\n",
       " 5.17597098445184,\n",
       " 5.215483480208424,\n",
       " 5.274413597450887,\n",
       " 5.2940709403559705,\n",
       " 5.3396913320785515,\n",
       " 5.432724459464916,\n",
       " 5.814922596838342,\n",
       " 5.979253731052894,\n",
       " 6.0709909382783085,\n",
       " 6.198500427022296,\n",
       " 6.895672292273551,\n",
       " 7.357192306537864,\n",
       " 7.643602594734542,\n",
       " 7.6558779731224975,\n",
       " 9.553032235922846,\n",
       " 10.502750887292335,\n",
       " 10.791429937138123,\n",
       " 11.314189914436575,\n",
       " 11.822756570692885,\n",
       " 12.203815667930701,\n",
       " 12.288890834289187,\n",
       " 13.312420895867476,\n",
       " 16.53382204422182,\n",
       " 18.06538348880227,\n",
       " 19.77535237002159,\n",
       " 20.190716548070252,\n",
       " 30.56312282186544,\n",
       " 33.74021441717392,\n",
       " 37.44261517193349,\n",
       " 40.20041434808455,\n",
       " 70.58670178644037,\n",
       " 94.10681254465315,\n",
       " 162.11539502978218,\n",
       " 194.57628939415648,\n",
       " 207.16495612856556,\n",
       " 208.52175424734034,\n",
       " 216.432201786478,\n",
       " 219.4529994795703,\n",
       " 227.32368215727075,\n",
       " 251.5650375180904,\n",
       " 259.6667781694375,\n",
       " 314.03475749737214,\n",
       " 325.97655243310186,\n",
       " 326.08973644318246,\n",
       " 382.5075962815432,\n",
       " 388.61032562744805,\n",
       " 416.6866941975813,\n",
       " 427.9769863363042,\n",
       " 459.66179310947103,\n",
       " 516.0507768951007,\n",
       " 530.1728050202302,\n",
       " 562.4814785496973,\n",
       " 726.0952801440804,\n",
       " 760.5405433652743,\n",
       " 784.282298427653,\n",
       " 878.3940740575879,\n",
       " 3935.77154479301,\n",
       " 16011.581208458174,\n",
       " inf,\n",
       " inf,\n",
       " inf,\n",
       " inf,\n",
       " inf,\n",
       " inf,\n",
       " inf,\n",
       " inf,\n",
       " inf,\n",
       " inf,\n",
       " inf,\n",
       " inf,\n",
       " inf,\n",
       " inf,\n",
       " inf,\n",
       " inf,\n",
       " inf,\n",
       " inf,\n",
       " inf,\n",
       " inf,\n",
       " inf,\n",
       " inf,\n",
       " inf,\n",
       " inf,\n",
       " inf,\n",
       " inf,\n",
       " inf,\n",
       " inf,\n",
       " inf,\n",
       " nan,\n",
       " nan,\n",
       " 1.5626659738067523,\n",
       " 1.5666584889536324,\n",
       " 1.5946323764967003,\n",
       " 1.5954912479008116,\n",
       " 1.6779662422481827,\n",
       " 1.758682199709634,\n",
       " 1.769268748228643,\n",
       " 1.781098806965738,\n",
       " 1.7952114978774947,\n",
       " 1.8523403867117108,\n",
       " 1.8551645610098348,\n",
       " 1.8996165494021566,\n",
       " 1.9389602277588007,\n",
       " 1.998323384877861,\n",
       " 2.0588503700490204,\n",
       " 2.569593802494468,\n",
       " 2.603094337264357,\n",
       " 2.929115857766524,\n",
       " 3.1943390259484388,\n",
       " 3.304452083824446,\n",
       " 3.3070716685237884,\n",
       " 3.405561777095662,\n",
       " 3.994349819980336,\n",
       " 4.309939426407277,\n",
       " 4.573260525515065,\n",
       " 4.6420762650992184,\n",
       " 4.651100248357043,\n",
       " 4.819839353696739,\n",
       " 7.254421739855574,\n",
       " 7.352772668738346,\n",
       " 8.707398717186004,\n",
       " 8.80629177237886,\n",
       " 9.7834066938571,\n",
       " 10.896064013667523,\n",
       " 12.179042131797972,\n",
       " 12.872868402560295,\n",
       " 13.008128876768323,\n",
       " 13.119383859106316,\n",
       " 13.351850242289698,\n",
       " 13.801460029643732,\n",
       " 13.857781727707245,\n",
       " 14.193873998056342,\n",
       " 15.511544531176018,\n",
       " 15.581512332023024,\n",
       " 16.043474120328344,\n",
       " 16.880504032776802,\n",
       " 18.119082002890487,\n",
       " 19.31358673642259,\n",
       " 20.102664144100636,\n",
       " 20.279553319621176,\n",
       " 20.40866991277525,\n",
       " 20.50884855974052,\n",
       " 21.118296744706424,\n",
       " 21.25164992104407,\n",
       " 21.3337813069522,\n",
       " 21.53604352009703,\n",
       " 21.53680008919008,\n",
       " 22.554546482339333,\n",
       " 22.570233959832105,\n",
       " 22.713275908884714,\n",
       " 23.267648894314622,\n",
       " 23.368467485886573,\n",
       " 23.802993794728646,\n",
       " 23.813307336535015,\n",
       " 25.21948137620289,\n",
       " 27.308538957983217,\n",
       " 27.785296498544934,\n",
       " 32.53982930995605,\n",
       " 40.57841613966965,\n",
       " 44.391976921194505,\n",
       " 53.38525523789919,\n",
       " 54.27712074487336,\n",
       " 57.834105055587294,\n",
       " 70.9545758799212,\n",
       " 71.5297828436576,\n",
       " 71.73861896930687,\n",
       " 72.45960638700751,\n",
       " 72.47502078150316,\n",
       " 87.09438965519473,\n",
       " 165.95515795038102,\n",
       " 198.7677345912402,\n",
       " 209.32171458888556,\n",
       " 223.56930902092168,\n",
       " inf,\n",
       " inf,\n",
       " inf,\n",
       " inf,\n",
       " inf,\n",
       " inf,\n",
       " inf,\n",
       " inf,\n",
       " inf,\n",
       " inf,\n",
       " nan,\n",
       " nan,\n",
       " nan,\n",
       " 2.8484178560959363,\n",
       " 2.9508748363453816,\n",
       " 3.737207078365202,\n",
       " 3.8987679485285534,\n",
       " 3.9897515726854462,\n",
       " 4.1755820686251175,\n",
       " 4.278028144915231,\n",
       " 4.284634144195255,\n",
       " 4.432619218061184,\n",
       " 4.569929889611503,\n",
       " 4.598884090842438,\n",
       " 4.629736602793771,\n",
       " 5.224689941885226,\n",
       " 12.14262008792399,\n",
       " 19.511314645340693,\n",
       " 42.51987396565317,\n",
       " 457.62796436397946,\n",
       " 469.39424535591246,\n",
       " inf,\n",
       " inf,\n",
       " inf,\n",
       " inf,\n",
       " inf,\n",
       " nan,\n",
       " 2.9577346080156817,\n",
       " 3.00765778626563,\n",
       " 3.181032559439871,\n",
       " 3.3318829863440667,\n",
       " 3.6059013069722208,\n",
       " 3.6614866315822647,\n",
       " 3.6800517109751474,\n",
       " 3.75726943086583,\n",
       " 3.7580487561857097,\n",
       " 3.894034421954195,\n",
       " 3.926245691982644,\n",
       " 4.1885873870341,\n",
       " 4.32162566545094,\n",
       " 4.425744873192174,\n",
       " 4.651213709321804,\n",
       " 4.7267525170606435,\n",
       " 4.780074939800667,\n",
       " 4.841835933253123,\n",
       " 4.981959235010852,\n",
       " 5.191527865957088,\n",
       " 7.340632764433899,\n",
       " 8.217984606180014,\n",
       " 8.936811948522658,\n",
       " 9.886675105587148,\n",
       " 10.02298343264096,\n",
       " 11.317460933641387,\n",
       " 12.791681469705209,\n",
       " 18.542720554448792,\n",
       " 20.580494256410887,\n",
       " 23.93817978196666,\n",
       " 25.823460745500128,\n",
       " 25.975478959786148,\n",
       " 27.8043890261565,\n",
       " 28.507150300131684,\n",
       " 30.372649135490658,\n",
       " 30.78730047850295,\n",
       " 33.006737984999766,\n",
       " 44.55192414822117,\n",
       " 66.79414378467608,\n",
       " 88.28818349421941,\n",
       " 93.80935177541855,\n",
       " 102.56398398411774,\n",
       " 123.29506105844729,\n",
       " 363.0391192909135,\n",
       " 407.72537887984595,\n",
       " 816.2741298696216,\n",
       " 907.2564695640078,\n",
       " 3212.1092525999634,\n",
       " inf,\n",
       " inf,\n",
       " inf,\n",
       " inf,\n",
       " inf,\n",
       " inf,\n",
       " inf,\n",
       " inf,\n",
       " inf,\n",
       " inf,\n",
       " inf,\n",
       " inf,\n",
       " inf,\n",
       " inf,\n",
       " inf,\n",
       " inf,\n",
       " inf,\n",
       " inf,\n",
       " inf,\n",
       " inf,\n",
       " inf,\n",
       " inf,\n",
       " inf,\n",
       " inf,\n",
       " inf,\n",
       " inf,\n",
       " inf]"
      ]
     },
     "execution_count": 342,
     "metadata": {},
     "output_type": "execute_result"
    }
   ],
   "source": [
    "sorted(vif.VIF)"
   ]
  },
  {
   "cell_type": "code",
   "execution_count": 363,
   "metadata": {},
   "outputs": [
    {
     "data": {
      "text/plain": [
       "['x0_t0',\n",
       " 'x0_t1',\n",
       " 'x0_t4',\n",
       " 'x0_t5',\n",
       " 'x11_t6',\n",
       " 'x13_t6',\n",
       " 'x14_t0',\n",
       " 'x14_t1',\n",
       " 'x19_t0',\n",
       " 'x21_t6',\n",
       " 'x23_t0',\n",
       " 'x27_t0',\n",
       " 'x27_t1',\n",
       " 'x27_t2',\n",
       " 'x27_t4',\n",
       " 'x27_t5',\n",
       " 'x29_t0',\n",
       " 'x29_t1',\n",
       " 'x29_t3',\n",
       " 'x29_t4',\n",
       " 'x29_t5',\n",
       " 'x35_t5',\n",
       " 'x3_t5',\n",
       " 'x3_t6',\n",
       " 'x41_t5',\n",
       " 'x45_t1',\n",
       " 'x47_t0',\n",
       " 'x47_t1',\n",
       " 'x47_t2',\n",
       " 'x47_t3',\n",
       " 'x47_t4',\n",
       " 'x48_t0',\n",
       " 'x48_t1',\n",
       " 'x48_t2',\n",
       " 'x48_t3',\n",
       " 'x48_t4',\n",
       " 'x50_t1',\n",
       " 'x50_t2',\n",
       " 'x50_t3',\n",
       " 'x53_t5',\n",
       " 'x54_t1',\n",
       " 'x54_t4',\n",
       " 'x54_t5',\n",
       " 'x5_t0',\n",
       " 'x9_t1',\n",
       " 'x9_t2',\n",
       " 'x9_t3',\n",
       " 'x9_t4',\n",
       " 'x9_t5',\n",
       " 'x9_t6']"
      ]
     },
     "execution_count": 363,
     "metadata": {},
     "output_type": "execute_result"
    }
   ],
   "source": [
    "#no of columns greater than VIF 10\n",
    "tmp = sorted(vif[(vif[\"VIF\"]<=8.0) & (vif[\"VIF\"]>=4)] [\"Features\"])\n",
    "tmp\n"
   ]
  },
  {
   "cell_type": "code",
   "execution_count": 364,
   "metadata": {},
   "outputs": [
    {
     "data": {
      "text/plain": [
       "50"
      ]
     },
     "execution_count": 364,
     "metadata": {},
     "output_type": "execute_result"
    }
   ],
   "source": [
    "len(tmp)"
   ]
  },
  {
   "cell_type": "code",
   "execution_count": 365,
   "metadata": {
    "id": "aeL8WdY_VEtK"
   },
   "outputs": [],
   "source": [
    "#Removing VIF > 10 \n",
    "drop_array=tmp\n",
    "X=mod_df[tmp]\n"
   ]
  },
  {
   "cell_type": "code",
   "execution_count": 366,
   "metadata": {},
   "outputs": [
    {
     "data": {
      "text/plain": [
       "(780, 50)"
      ]
     },
     "execution_count": 366,
     "metadata": {},
     "output_type": "execute_result"
    }
   ],
   "source": [
    "X.shape"
   ]
  },
  {
   "cell_type": "code",
   "execution_count": 176,
   "metadata": {},
   "outputs": [],
   "source": [
    "#X.drop('y2',axis=1,inplace=True)"
   ]
  },
  {
   "cell_type": "code",
   "execution_count": 367,
   "metadata": {},
   "outputs": [
    {
     "data": {
      "text/html": [
       "<div>\n",
       "<style scoped>\n",
       "    .dataframe tbody tr th:only-of-type {\n",
       "        vertical-align: middle;\n",
       "    }\n",
       "\n",
       "    .dataframe tbody tr th {\n",
       "        vertical-align: top;\n",
       "    }\n",
       "\n",
       "    .dataframe thead th {\n",
       "        text-align: right;\n",
       "    }\n",
       "</style>\n",
       "<table border=\"1\" class=\"dataframe\">\n",
       "  <thead>\n",
       "    <tr style=\"text-align: right;\">\n",
       "      <th></th>\n",
       "      <th>x0_t0</th>\n",
       "      <th>x0_t1</th>\n",
       "      <th>x0_t4</th>\n",
       "      <th>x0_t5</th>\n",
       "      <th>x11_t6</th>\n",
       "      <th>x13_t6</th>\n",
       "      <th>x14_t0</th>\n",
       "      <th>x14_t1</th>\n",
       "      <th>x19_t0</th>\n",
       "      <th>x21_t6</th>\n",
       "      <th>...</th>\n",
       "      <th>x54_t1</th>\n",
       "      <th>x54_t4</th>\n",
       "      <th>x54_t5</th>\n",
       "      <th>x5_t0</th>\n",
       "      <th>x9_t1</th>\n",
       "      <th>x9_t2</th>\n",
       "      <th>x9_t3</th>\n",
       "      <th>x9_t4</th>\n",
       "      <th>x9_t5</th>\n",
       "      <th>x9_t6</th>\n",
       "    </tr>\n",
       "  </thead>\n",
       "  <tbody>\n",
       "    <tr>\n",
       "      <th>0</th>\n",
       "      <td>762.212216</td>\n",
       "      <td>753.162754</td>\n",
       "      <td>768.170347</td>\n",
       "      <td>769.815486</td>\n",
       "      <td>9.400000</td>\n",
       "      <td>495.530000</td>\n",
       "      <td>0.897013</td>\n",
       "      <td>0.897303</td>\n",
       "      <td>80.0</td>\n",
       "      <td>27.0</td>\n",
       "      <td>...</td>\n",
       "      <td>1.883677</td>\n",
       "      <td>1.755078</td>\n",
       "      <td>2.030000</td>\n",
       "      <td>748.773616</td>\n",
       "      <td>0.244055</td>\n",
       "      <td>0.245363</td>\n",
       "      <td>0.248112</td>\n",
       "      <td>0.335132</td>\n",
       "      <td>0.257364</td>\n",
       "      <td>0.310000</td>\n",
       "    </tr>\n",
       "    <tr>\n",
       "      <th>1</th>\n",
       "      <td>762.671780</td>\n",
       "      <td>746.631882</td>\n",
       "      <td>761.814347</td>\n",
       "      <td>766.110745</td>\n",
       "      <td>52.836098</td>\n",
       "      <td>427.375337</td>\n",
       "      <td>0.900293</td>\n",
       "      <td>0.900314</td>\n",
       "      <td>80.0</td>\n",
       "      <td>29.0</td>\n",
       "      <td>...</td>\n",
       "      <td>1.820872</td>\n",
       "      <td>1.964556</td>\n",
       "      <td>1.965790</td>\n",
       "      <td>720.968536</td>\n",
       "      <td>0.357220</td>\n",
       "      <td>0.303688</td>\n",
       "      <td>0.256193</td>\n",
       "      <td>0.223815</td>\n",
       "      <td>0.360538</td>\n",
       "      <td>0.240273</td>\n",
       "    </tr>\n",
       "    <tr>\n",
       "      <th>2</th>\n",
       "      <td>766.867777</td>\n",
       "      <td>756.642963</td>\n",
       "      <td>760.087594</td>\n",
       "      <td>758.380275</td>\n",
       "      <td>9.400000</td>\n",
       "      <td>495.530000</td>\n",
       "      <td>0.901689</td>\n",
       "      <td>0.901869</td>\n",
       "      <td>80.0</td>\n",
       "      <td>27.0</td>\n",
       "      <td>...</td>\n",
       "      <td>2.019537</td>\n",
       "      <td>1.976534</td>\n",
       "      <td>2.030000</td>\n",
       "      <td>762.066151</td>\n",
       "      <td>0.128335</td>\n",
       "      <td>0.157638</td>\n",
       "      <td>0.295245</td>\n",
       "      <td>0.297705</td>\n",
       "      <td>0.216435</td>\n",
       "      <td>0.310000</td>\n",
       "    </tr>\n",
       "    <tr>\n",
       "      <th>5</th>\n",
       "      <td>759.214578</td>\n",
       "      <td>753.733085</td>\n",
       "      <td>755.826560</td>\n",
       "      <td>755.238797</td>\n",
       "      <td>9.400000</td>\n",
       "      <td>495.530000</td>\n",
       "      <td>0.901871</td>\n",
       "      <td>0.901957</td>\n",
       "      <td>80.0</td>\n",
       "      <td>27.0</td>\n",
       "      <td>...</td>\n",
       "      <td>2.196053</td>\n",
       "      <td>2.272081</td>\n",
       "      <td>2.030000</td>\n",
       "      <td>747.682834</td>\n",
       "      <td>0.235546</td>\n",
       "      <td>0.346985</td>\n",
       "      <td>0.262499</td>\n",
       "      <td>0.353931</td>\n",
       "      <td>0.360703</td>\n",
       "      <td>0.310000</td>\n",
       "    </tr>\n",
       "    <tr>\n",
       "      <th>6</th>\n",
       "      <td>760.229220</td>\n",
       "      <td>763.722385</td>\n",
       "      <td>760.680692</td>\n",
       "      <td>764.814620</td>\n",
       "      <td>7.266019</td>\n",
       "      <td>477.257824</td>\n",
       "      <td>0.848419</td>\n",
       "      <td>0.848383</td>\n",
       "      <td>80.0</td>\n",
       "      <td>27.0</td>\n",
       "      <td>...</td>\n",
       "      <td>2.094220</td>\n",
       "      <td>2.124493</td>\n",
       "      <td>1.851155</td>\n",
       "      <td>750.388363</td>\n",
       "      <td>0.050311</td>\n",
       "      <td>0.052748</td>\n",
       "      <td>0.046689</td>\n",
       "      <td>0.047468</td>\n",
       "      <td>0.046164</td>\n",
       "      <td>0.047938</td>\n",
       "    </tr>\n",
       "  </tbody>\n",
       "</table>\n",
       "<p>5 rows × 50 columns</p>\n",
       "</div>"
      ],
      "text/plain": [
       "        x0_t0       x0_t1       x0_t4       x0_t5     x11_t6      x13_t6  \\\n",
       "0  762.212216  753.162754  768.170347  769.815486   9.400000  495.530000   \n",
       "1  762.671780  746.631882  761.814347  766.110745  52.836098  427.375337   \n",
       "2  766.867777  756.642963  760.087594  758.380275   9.400000  495.530000   \n",
       "5  759.214578  753.733085  755.826560  755.238797   9.400000  495.530000   \n",
       "6  760.229220  763.722385  760.680692  764.814620   7.266019  477.257824   \n",
       "\n",
       "     x14_t0    x14_t1  x19_t0  x21_t6  ...    x54_t1    x54_t4    x54_t5  \\\n",
       "0  0.897013  0.897303    80.0    27.0  ...  1.883677  1.755078  2.030000   \n",
       "1  0.900293  0.900314    80.0    29.0  ...  1.820872  1.964556  1.965790   \n",
       "2  0.901689  0.901869    80.0    27.0  ...  2.019537  1.976534  2.030000   \n",
       "5  0.901871  0.901957    80.0    27.0  ...  2.196053  2.272081  2.030000   \n",
       "6  0.848419  0.848383    80.0    27.0  ...  2.094220  2.124493  1.851155   \n",
       "\n",
       "        x5_t0     x9_t1     x9_t2     x9_t3     x9_t4     x9_t5     x9_t6  \n",
       "0  748.773616  0.244055  0.245363  0.248112  0.335132  0.257364  0.310000  \n",
       "1  720.968536  0.357220  0.303688  0.256193  0.223815  0.360538  0.240273  \n",
       "2  762.066151  0.128335  0.157638  0.295245  0.297705  0.216435  0.310000  \n",
       "5  747.682834  0.235546  0.346985  0.262499  0.353931  0.360703  0.310000  \n",
       "6  750.388363  0.050311  0.052748  0.046689  0.047468  0.046164  0.047938  \n",
       "\n",
       "[5 rows x 50 columns]"
      ]
     },
     "execution_count": 367,
     "metadata": {},
     "output_type": "execute_result"
    }
   ],
   "source": [
    "X.head()"
   ]
  },
  {
   "cell_type": "code",
   "execution_count": 368,
   "metadata": {},
   "outputs": [
    {
     "name": "stdout",
     "output_type": "stream",
     "text": [
      "50\n"
     ]
    }
   ],
   "source": [
    "print(len(drop_array))"
   ]
  },
  {
   "cell_type": "code",
   "execution_count": 369,
   "metadata": {},
   "outputs": [],
   "source": [
    "var = tmp[:len(tmp)-1]"
   ]
  },
  {
   "cell_type": "code",
   "execution_count": 229,
   "metadata": {},
   "outputs": [
    {
     "data": {
      "text/plain": [
       "['x0_t1',\n",
       " 'x0_t4',\n",
       " 'x0_t5',\n",
       " 'x11_t6',\n",
       " 'x19_t0',\n",
       " 'x21_t6',\n",
       " 'x27_t0',\n",
       " 'x27_t1',\n",
       " 'x27_t2',\n",
       " 'x27_t5',\n",
       " 'x29_t0',\n",
       " 'x29_t1',\n",
       " 'x29_t3',\n",
       " 'x29_t4',\n",
       " 'x29_t5',\n",
       " 'x3_t5',\n",
       " 'x45_t1',\n",
       " 'x47_t0',\n",
       " 'x47_t1',\n",
       " 'x47_t2',\n",
       " 'x47_t3',\n",
       " 'x47_t4',\n",
       " 'x48_t0',\n",
       " 'x48_t1',\n",
       " 'x48_t2',\n",
       " 'x48_t3',\n",
       " 'x48_t4',\n",
       " 'x50_t1',\n",
       " 'x50_t2',\n",
       " 'x50_t3',\n",
       " 'x53_t5',\n",
       " 'x54_t1',\n",
       " 'x54_t5',\n",
       " 'x5_t0',\n",
       " 'x9_t1',\n",
       " 'x9_t2',\n",
       " 'x9_t3',\n",
       " 'x9_t5']"
      ]
     },
     "execution_count": 229,
     "metadata": {},
     "output_type": "execute_result"
    }
   ],
   "source": [
    "var"
   ]
  },
  {
   "cell_type": "code",
   "execution_count": 370,
   "metadata": {
    "id": "PcjtyuZIczxj"
   },
   "outputs": [],
   "source": [
    "#drop_array_test=tmp\n",
    "\n",
    "X_test_p=df_test[tmp]"
   ]
  },
  {
   "cell_type": "code",
   "execution_count": 371,
   "metadata": {
    "colab": {
     "base_uri": "https://localhost:8080/"
    },
    "id": "yTvlTd7pV7-Y",
    "outputId": "9c96cc25-7d8b-4eb0-cb6f-9ca325fef64c"
   },
   "outputs": [
    {
     "name": "stdout",
     "output_type": "stream",
     "text": [
      "(780, 50)\n",
      "(89, 50)\n"
     ]
    }
   ],
   "source": [
    "\n",
    "# Actual Traing data - (794,387)\n",
    "print(X.shape)\n",
    "print(X_test_p.shape)\n"
   ]
  },
  {
   "cell_type": "code",
   "execution_count": null,
   "metadata": {},
   "outputs": [],
   "source": []
  },
  {
   "cell_type": "code",
   "execution_count": 327,
   "metadata": {},
   "outputs": [
    {
     "data": {
      "text/html": [
       "<div>\n",
       "<style scoped>\n",
       "    .dataframe tbody tr th:only-of-type {\n",
       "        vertical-align: middle;\n",
       "    }\n",
       "\n",
       "    .dataframe tbody tr th {\n",
       "        vertical-align: top;\n",
       "    }\n",
       "\n",
       "    .dataframe thead th {\n",
       "        text-align: right;\n",
       "    }\n",
       "</style>\n",
       "<table border=\"1\" class=\"dataframe\">\n",
       "  <thead>\n",
       "    <tr style=\"text-align: right;\">\n",
       "      <th></th>\n",
       "      <th>x0_t0</th>\n",
       "      <th>x0_t1</th>\n",
       "      <th>x0_t4</th>\n",
       "      <th>x0_t5</th>\n",
       "      <th>x0_t6</th>\n",
       "      <th>x10_t5</th>\n",
       "      <th>x11_t6</th>\n",
       "      <th>x13_t6</th>\n",
       "      <th>x14_t0</th>\n",
       "      <th>x14_t1</th>\n",
       "      <th>...</th>\n",
       "      <th>x54_t4</th>\n",
       "      <th>x54_t5</th>\n",
       "      <th>x5_t0</th>\n",
       "      <th>x9_t0</th>\n",
       "      <th>x9_t1</th>\n",
       "      <th>x9_t2</th>\n",
       "      <th>x9_t3</th>\n",
       "      <th>x9_t4</th>\n",
       "      <th>x9_t5</th>\n",
       "      <th>x9_t6</th>\n",
       "    </tr>\n",
       "  </thead>\n",
       "  <tbody>\n",
       "    <tr>\n",
       "      <th>0</th>\n",
       "      <td>738.152456</td>\n",
       "      <td>747.990517</td>\n",
       "      <td>754.378901</td>\n",
       "      <td>746.444051</td>\n",
       "      <td>750.95</td>\n",
       "      <td>81.294021</td>\n",
       "      <td>9.4</td>\n",
       "      <td>495.53</td>\n",
       "      <td>0.901902</td>\n",
       "      <td>0.901779</td>\n",
       "      <td>...</td>\n",
       "      <td>1.480912</td>\n",
       "      <td>2.03</td>\n",
       "      <td>750.314288</td>\n",
       "      <td>0.162187</td>\n",
       "      <td>0.190441</td>\n",
       "      <td>0.204893</td>\n",
       "      <td>0.253198</td>\n",
       "      <td>0.322366</td>\n",
       "      <td>0.322622</td>\n",
       "      <td>0.31</td>\n",
       "    </tr>\n",
       "    <tr>\n",
       "      <th>1</th>\n",
       "      <td>750.304526</td>\n",
       "      <td>751.440356</td>\n",
       "      <td>749.642800</td>\n",
       "      <td>751.071232</td>\n",
       "      <td>750.95</td>\n",
       "      <td>81.130032</td>\n",
       "      <td>9.4</td>\n",
       "      <td>495.53</td>\n",
       "      <td>0.879294</td>\n",
       "      <td>0.879239</td>\n",
       "      <td>...</td>\n",
       "      <td>2.044686</td>\n",
       "      <td>2.03</td>\n",
       "      <td>732.939902</td>\n",
       "      <td>0.261859</td>\n",
       "      <td>0.289637</td>\n",
       "      <td>0.299346</td>\n",
       "      <td>0.266894</td>\n",
       "      <td>0.261006</td>\n",
       "      <td>0.318241</td>\n",
       "      <td>0.31</td>\n",
       "    </tr>\n",
       "    <tr>\n",
       "      <th>2</th>\n",
       "      <td>778.247612</td>\n",
       "      <td>766.210592</td>\n",
       "      <td>776.258670</td>\n",
       "      <td>766.606237</td>\n",
       "      <td>750.95</td>\n",
       "      <td>82.481267</td>\n",
       "      <td>9.4</td>\n",
       "      <td>495.53</td>\n",
       "      <td>0.897258</td>\n",
       "      <td>0.897336</td>\n",
       "      <td>...</td>\n",
       "      <td>2.193177</td>\n",
       "      <td>2.03</td>\n",
       "      <td>758.659606</td>\n",
       "      <td>0.183633</td>\n",
       "      <td>0.242567</td>\n",
       "      <td>0.242238</td>\n",
       "      <td>0.208215</td>\n",
       "      <td>0.254057</td>\n",
       "      <td>0.249183</td>\n",
       "      <td>0.31</td>\n",
       "    </tr>\n",
       "    <tr>\n",
       "      <th>3</th>\n",
       "      <td>759.227472</td>\n",
       "      <td>758.535754</td>\n",
       "      <td>754.005989</td>\n",
       "      <td>757.404229</td>\n",
       "      <td>750.95</td>\n",
       "      <td>82.205268</td>\n",
       "      <td>9.4</td>\n",
       "      <td>495.53</td>\n",
       "      <td>0.896703</td>\n",
       "      <td>0.896760</td>\n",
       "      <td>...</td>\n",
       "      <td>1.741741</td>\n",
       "      <td>2.03</td>\n",
       "      <td>747.475924</td>\n",
       "      <td>0.134339</td>\n",
       "      <td>0.132240</td>\n",
       "      <td>0.132727</td>\n",
       "      <td>0.139152</td>\n",
       "      <td>0.138675</td>\n",
       "      <td>0.137362</td>\n",
       "      <td>0.31</td>\n",
       "    </tr>\n",
       "    <tr>\n",
       "      <th>4</th>\n",
       "      <td>770.473802</td>\n",
       "      <td>768.971055</td>\n",
       "      <td>768.813193</td>\n",
       "      <td>760.116829</td>\n",
       "      <td>750.95</td>\n",
       "      <td>81.803607</td>\n",
       "      <td>9.4</td>\n",
       "      <td>495.53</td>\n",
       "      <td>0.847800</td>\n",
       "      <td>0.847813</td>\n",
       "      <td>...</td>\n",
       "      <td>2.099017</td>\n",
       "      <td>2.03</td>\n",
       "      <td>764.077975</td>\n",
       "      <td>0.115496</td>\n",
       "      <td>0.122124</td>\n",
       "      <td>0.122047</td>\n",
       "      <td>0.116937</td>\n",
       "      <td>0.118519</td>\n",
       "      <td>0.119184</td>\n",
       "      <td>0.31</td>\n",
       "    </tr>\n",
       "  </tbody>\n",
       "</table>\n",
       "<p>5 rows × 81 columns</p>\n",
       "</div>"
      ],
      "text/plain": [
       "        x0_t0       x0_t1       x0_t4       x0_t5   x0_t6     x10_t5  x11_t6  \\\n",
       "0  738.152456  747.990517  754.378901  746.444051  750.95  81.294021     9.4   \n",
       "1  750.304526  751.440356  749.642800  751.071232  750.95  81.130032     9.4   \n",
       "2  778.247612  766.210592  776.258670  766.606237  750.95  82.481267     9.4   \n",
       "3  759.227472  758.535754  754.005989  757.404229  750.95  82.205268     9.4   \n",
       "4  770.473802  768.971055  768.813193  760.116829  750.95  81.803607     9.4   \n",
       "\n",
       "   x13_t6    x14_t0    x14_t1  ...    x54_t4  x54_t5       x5_t0     x9_t0  \\\n",
       "0  495.53  0.901902  0.901779  ...  1.480912    2.03  750.314288  0.162187   \n",
       "1  495.53  0.879294  0.879239  ...  2.044686    2.03  732.939902  0.261859   \n",
       "2  495.53  0.897258  0.897336  ...  2.193177    2.03  758.659606  0.183633   \n",
       "3  495.53  0.896703  0.896760  ...  1.741741    2.03  747.475924  0.134339   \n",
       "4  495.53  0.847800  0.847813  ...  2.099017    2.03  764.077975  0.115496   \n",
       "\n",
       "      x9_t1     x9_t2     x9_t3     x9_t4     x9_t5  x9_t6  \n",
       "0  0.190441  0.204893  0.253198  0.322366  0.322622   0.31  \n",
       "1  0.289637  0.299346  0.266894  0.261006  0.318241   0.31  \n",
       "2  0.242567  0.242238  0.208215  0.254057  0.249183   0.31  \n",
       "3  0.132240  0.132727  0.139152  0.138675  0.137362   0.31  \n",
       "4  0.122124  0.122047  0.116937  0.118519  0.119184   0.31  \n",
       "\n",
       "[5 rows x 81 columns]"
      ]
     },
     "execution_count": 327,
     "metadata": {},
     "output_type": "execute_result"
    }
   ],
   "source": [
    "X_test_p.head()"
   ]
  },
  {
   "cell_type": "code",
   "execution_count": 328,
   "metadata": {},
   "outputs": [
    {
     "data": {
      "text/html": [
       "<div>\n",
       "<style scoped>\n",
       "    .dataframe tbody tr th:only-of-type {\n",
       "        vertical-align: middle;\n",
       "    }\n",
       "\n",
       "    .dataframe tbody tr th {\n",
       "        vertical-align: top;\n",
       "    }\n",
       "\n",
       "    .dataframe thead th {\n",
       "        text-align: right;\n",
       "    }\n",
       "</style>\n",
       "<table border=\"1\" class=\"dataframe\">\n",
       "  <thead>\n",
       "    <tr style=\"text-align: right;\">\n",
       "      <th></th>\n",
       "      <th>x0_t0</th>\n",
       "      <th>x0_t1</th>\n",
       "      <th>x0_t4</th>\n",
       "      <th>x0_t5</th>\n",
       "      <th>x0_t6</th>\n",
       "      <th>x10_t5</th>\n",
       "      <th>x11_t6</th>\n",
       "      <th>x13_t6</th>\n",
       "      <th>x14_t0</th>\n",
       "      <th>x14_t1</th>\n",
       "      <th>...</th>\n",
       "      <th>x54_t4</th>\n",
       "      <th>x54_t5</th>\n",
       "      <th>x5_t0</th>\n",
       "      <th>x9_t0</th>\n",
       "      <th>x9_t1</th>\n",
       "      <th>x9_t2</th>\n",
       "      <th>x9_t3</th>\n",
       "      <th>x9_t4</th>\n",
       "      <th>x9_t5</th>\n",
       "      <th>x9_t6</th>\n",
       "    </tr>\n",
       "  </thead>\n",
       "  <tbody>\n",
       "    <tr>\n",
       "      <th>0</th>\n",
       "      <td>762.212216</td>\n",
       "      <td>753.162754</td>\n",
       "      <td>768.170347</td>\n",
       "      <td>769.815486</td>\n",
       "      <td>750.950000</td>\n",
       "      <td>82.008582</td>\n",
       "      <td>9.400000</td>\n",
       "      <td>495.530000</td>\n",
       "      <td>0.897013</td>\n",
       "      <td>0.897303</td>\n",
       "      <td>...</td>\n",
       "      <td>1.755078</td>\n",
       "      <td>2.030000</td>\n",
       "      <td>748.773616</td>\n",
       "      <td>0.243978</td>\n",
       "      <td>0.244055</td>\n",
       "      <td>0.245363</td>\n",
       "      <td>0.248112</td>\n",
       "      <td>0.335132</td>\n",
       "      <td>0.257364</td>\n",
       "      <td>0.310000</td>\n",
       "    </tr>\n",
       "    <tr>\n",
       "      <th>1</th>\n",
       "      <td>762.671780</td>\n",
       "      <td>746.631882</td>\n",
       "      <td>761.814347</td>\n",
       "      <td>766.110745</td>\n",
       "      <td>762.535189</td>\n",
       "      <td>81.681381</td>\n",
       "      <td>52.836098</td>\n",
       "      <td>427.375337</td>\n",
       "      <td>0.900293</td>\n",
       "      <td>0.900314</td>\n",
       "      <td>...</td>\n",
       "      <td>1.964556</td>\n",
       "      <td>1.965790</td>\n",
       "      <td>720.968536</td>\n",
       "      <td>0.216565</td>\n",
       "      <td>0.357220</td>\n",
       "      <td>0.303688</td>\n",
       "      <td>0.256193</td>\n",
       "      <td>0.223815</td>\n",
       "      <td>0.360538</td>\n",
       "      <td>0.240273</td>\n",
       "    </tr>\n",
       "    <tr>\n",
       "      <th>2</th>\n",
       "      <td>766.867777</td>\n",
       "      <td>756.642963</td>\n",
       "      <td>760.087594</td>\n",
       "      <td>758.380275</td>\n",
       "      <td>750.950000</td>\n",
       "      <td>83.360734</td>\n",
       "      <td>9.400000</td>\n",
       "      <td>495.530000</td>\n",
       "      <td>0.901689</td>\n",
       "      <td>0.901869</td>\n",
       "      <td>...</td>\n",
       "      <td>1.976534</td>\n",
       "      <td>2.030000</td>\n",
       "      <td>762.066151</td>\n",
       "      <td>0.060847</td>\n",
       "      <td>0.128335</td>\n",
       "      <td>0.157638</td>\n",
       "      <td>0.295245</td>\n",
       "      <td>0.297705</td>\n",
       "      <td>0.216435</td>\n",
       "      <td>0.310000</td>\n",
       "    </tr>\n",
       "    <tr>\n",
       "      <th>5</th>\n",
       "      <td>759.214578</td>\n",
       "      <td>753.733085</td>\n",
       "      <td>755.826560</td>\n",
       "      <td>755.238797</td>\n",
       "      <td>750.950000</td>\n",
       "      <td>80.791754</td>\n",
       "      <td>9.400000</td>\n",
       "      <td>495.530000</td>\n",
       "      <td>0.901871</td>\n",
       "      <td>0.901957</td>\n",
       "      <td>...</td>\n",
       "      <td>2.272081</td>\n",
       "      <td>2.030000</td>\n",
       "      <td>747.682834</td>\n",
       "      <td>0.225206</td>\n",
       "      <td>0.235546</td>\n",
       "      <td>0.346985</td>\n",
       "      <td>0.262499</td>\n",
       "      <td>0.353931</td>\n",
       "      <td>0.360703</td>\n",
       "      <td>0.310000</td>\n",
       "    </tr>\n",
       "    <tr>\n",
       "      <th>6</th>\n",
       "      <td>760.229220</td>\n",
       "      <td>763.722385</td>\n",
       "      <td>760.680692</td>\n",
       "      <td>764.814620</td>\n",
       "      <td>753.287722</td>\n",
       "      <td>80.476433</td>\n",
       "      <td>7.266019</td>\n",
       "      <td>477.257824</td>\n",
       "      <td>0.848419</td>\n",
       "      <td>0.848383</td>\n",
       "      <td>...</td>\n",
       "      <td>2.124493</td>\n",
       "      <td>1.851155</td>\n",
       "      <td>750.388363</td>\n",
       "      <td>0.047632</td>\n",
       "      <td>0.050311</td>\n",
       "      <td>0.052748</td>\n",
       "      <td>0.046689</td>\n",
       "      <td>0.047468</td>\n",
       "      <td>0.046164</td>\n",
       "      <td>0.047938</td>\n",
       "    </tr>\n",
       "  </tbody>\n",
       "</table>\n",
       "<p>5 rows × 81 columns</p>\n",
       "</div>"
      ],
      "text/plain": [
       "        x0_t0       x0_t1       x0_t4       x0_t5       x0_t6     x10_t5  \\\n",
       "0  762.212216  753.162754  768.170347  769.815486  750.950000  82.008582   \n",
       "1  762.671780  746.631882  761.814347  766.110745  762.535189  81.681381   \n",
       "2  766.867777  756.642963  760.087594  758.380275  750.950000  83.360734   \n",
       "5  759.214578  753.733085  755.826560  755.238797  750.950000  80.791754   \n",
       "6  760.229220  763.722385  760.680692  764.814620  753.287722  80.476433   \n",
       "\n",
       "      x11_t6      x13_t6    x14_t0    x14_t1  ...    x54_t4    x54_t5  \\\n",
       "0   9.400000  495.530000  0.897013  0.897303  ...  1.755078  2.030000   \n",
       "1  52.836098  427.375337  0.900293  0.900314  ...  1.964556  1.965790   \n",
       "2   9.400000  495.530000  0.901689  0.901869  ...  1.976534  2.030000   \n",
       "5   9.400000  495.530000  0.901871  0.901957  ...  2.272081  2.030000   \n",
       "6   7.266019  477.257824  0.848419  0.848383  ...  2.124493  1.851155   \n",
       "\n",
       "        x5_t0     x9_t0     x9_t1     x9_t2     x9_t3     x9_t4     x9_t5  \\\n",
       "0  748.773616  0.243978  0.244055  0.245363  0.248112  0.335132  0.257364   \n",
       "1  720.968536  0.216565  0.357220  0.303688  0.256193  0.223815  0.360538   \n",
       "2  762.066151  0.060847  0.128335  0.157638  0.295245  0.297705  0.216435   \n",
       "5  747.682834  0.225206  0.235546  0.346985  0.262499  0.353931  0.360703   \n",
       "6  750.388363  0.047632  0.050311  0.052748  0.046689  0.047468  0.046164   \n",
       "\n",
       "      x9_t6  \n",
       "0  0.310000  \n",
       "1  0.240273  \n",
       "2  0.310000  \n",
       "5  0.310000  \n",
       "6  0.047938  \n",
       "\n",
       "[5 rows x 81 columns]"
      ]
     },
     "execution_count": 328,
     "metadata": {},
     "output_type": "execute_result"
    }
   ],
   "source": [
    "X.head()"
   ]
  },
  {
   "cell_type": "code",
   "execution_count": 186,
   "metadata": {
    "colab": {
     "base_uri": "https://localhost:8080/"
    },
    "id": "7hwLEHQ7WmzH",
    "outputId": "bf3e5bdd-858b-4292-a2fc-ecd45cf2bdd4"
   },
   "outputs": [
    {
     "data": {
      "text/plain": [
       "(780, 102)"
      ]
     },
     "execution_count": 186,
     "metadata": {},
     "output_type": "execute_result"
    }
   ],
   "source": [
    "X.shape"
   ]
  },
  {
   "cell_type": "code",
   "execution_count": 372,
   "metadata": {
    "id": "n-HX-YI5JvmD"
   },
   "outputs": [],
   "source": [
    "from sklearn.preprocessing import RobustScaler\n",
    "scaler=RobustScaler()\n",
    "d=scaler.fit_transform(X)\n",
    "names=X.columns\n",
    "scaled_df = pd.DataFrame(d, columns=names)\n",
    "\n",
    "t=scaler.fit_transform(X_test_p)\n",
    "names=X_test_p.columns\n",
    "scaled_df_p = pd.DataFrame(t, columns=names)\n"
   ]
  },
  {
   "cell_type": "code",
   "execution_count": 351,
   "metadata": {
    "colab": {
     "base_uri": "https://localhost:8080/",
     "height": 253
    },
    "id": "s7rv-dqxW7Xr",
    "outputId": "b52c8714-97b4-4aac-f264-d509243758d6"
   },
   "outputs": [
    {
     "data": {
      "text/html": [
       "<div>\n",
       "<style scoped>\n",
       "    .dataframe tbody tr th:only-of-type {\n",
       "        vertical-align: middle;\n",
       "    }\n",
       "\n",
       "    .dataframe tbody tr th {\n",
       "        vertical-align: top;\n",
       "    }\n",
       "\n",
       "    .dataframe thead th {\n",
       "        text-align: right;\n",
       "    }\n",
       "</style>\n",
       "<table border=\"1\" class=\"dataframe\">\n",
       "  <thead>\n",
       "    <tr style=\"text-align: right;\">\n",
       "      <th></th>\n",
       "      <th>x0_t0</th>\n",
       "      <th>x0_t1</th>\n",
       "      <th>x0_t4</th>\n",
       "      <th>x0_t5</th>\n",
       "      <th>x11_t6</th>\n",
       "      <th>x13_t6</th>\n",
       "      <th>x14_t0</th>\n",
       "      <th>x14_t1</th>\n",
       "      <th>x19_t0</th>\n",
       "      <th>x21_t6</th>\n",
       "      <th>...</th>\n",
       "      <th>x54_t1</th>\n",
       "      <th>x54_t4</th>\n",
       "      <th>x54_t5</th>\n",
       "      <th>x5_t0</th>\n",
       "      <th>x9_t1</th>\n",
       "      <th>x9_t2</th>\n",
       "      <th>x9_t3</th>\n",
       "      <th>x9_t4</th>\n",
       "      <th>x9_t5</th>\n",
       "      <th>x9_t6</th>\n",
       "    </tr>\n",
       "  </thead>\n",
       "  <tbody>\n",
       "    <tr>\n",
       "      <th>0</th>\n",
       "      <td>0.341454</td>\n",
       "      <td>-0.192542</td>\n",
       "      <td>0.670644</td>\n",
       "      <td>0.765069</td>\n",
       "      <td>0.000000</td>\n",
       "      <td>0.000000</td>\n",
       "      <td>-0.158093</td>\n",
       "      <td>-0.147592</td>\n",
       "      <td>0.0</td>\n",
       "      <td>0.0</td>\n",
       "      <td>...</td>\n",
       "      <td>-0.197470</td>\n",
       "      <td>-0.556309</td>\n",
       "      <td>0.000000</td>\n",
       "      <td>0.002385</td>\n",
       "      <td>0.146540</td>\n",
       "      <td>0.104183</td>\n",
       "      <td>0.127059</td>\n",
       "      <td>0.839366</td>\n",
       "      <td>0.218387</td>\n",
       "      <td>0.000000</td>\n",
       "    </tr>\n",
       "    <tr>\n",
       "      <th>1</th>\n",
       "      <td>0.367209</td>\n",
       "      <td>-0.543077</td>\n",
       "      <td>0.315815</td>\n",
       "      <td>0.561028</td>\n",
       "      <td>43.436098</td>\n",
       "      <td>-68.154663</td>\n",
       "      <td>-0.011889</td>\n",
       "      <td>-0.011033</td>\n",
       "      <td>0.0</td>\n",
       "      <td>2.0</td>\n",
       "      <td>...</td>\n",
       "      <td>-0.366876</td>\n",
       "      <td>0.055503</td>\n",
       "      <td>-0.064210</td>\n",
       "      <td>-1.303557</td>\n",
       "      <td>1.095057</td>\n",
       "      <td>0.575429</td>\n",
       "      <td>0.192906</td>\n",
       "      <td>-0.033049</td>\n",
       "      <td>0.994369</td>\n",
       "      <td>-7.877544</td>\n",
       "    </tr>\n",
       "    <tr>\n",
       "      <th>2</th>\n",
       "      <td>0.602365</td>\n",
       "      <td>-0.005747</td>\n",
       "      <td>0.219418</td>\n",
       "      <td>0.135268</td>\n",
       "      <td>0.000000</td>\n",
       "      <td>0.000000</td>\n",
       "      <td>0.050348</td>\n",
       "      <td>0.059533</td>\n",
       "      <td>0.0</td>\n",
       "      <td>0.0</td>\n",
       "      <td>...</td>\n",
       "      <td>0.168994</td>\n",
       "      <td>0.090487</td>\n",
       "      <td>0.000000</td>\n",
       "      <td>0.626706</td>\n",
       "      <td>-0.823395</td>\n",
       "      <td>-0.604609</td>\n",
       "      <td>0.511088</td>\n",
       "      <td>0.546038</td>\n",
       "      <td>-0.089444</td>\n",
       "      <td>0.000000</td>\n",
       "    </tr>\n",
       "    <tr>\n",
       "      <th>3</th>\n",
       "      <td>0.173457</td>\n",
       "      <td>-0.161930</td>\n",
       "      <td>-0.018458</td>\n",
       "      <td>-0.037751</td>\n",
       "      <td>0.000000</td>\n",
       "      <td>0.000000</td>\n",
       "      <td>0.058458</td>\n",
       "      <td>0.063516</td>\n",
       "      <td>0.0</td>\n",
       "      <td>0.0</td>\n",
       "      <td>...</td>\n",
       "      <td>0.645119</td>\n",
       "      <td>0.953678</td>\n",
       "      <td>0.000000</td>\n",
       "      <td>-0.048847</td>\n",
       "      <td>0.075218</td>\n",
       "      <td>0.925255</td>\n",
       "      <td>0.244286</td>\n",
       "      <td>0.986695</td>\n",
       "      <td>0.995608</td>\n",
       "      <td>0.000000</td>\n",
       "    </tr>\n",
       "    <tr>\n",
       "      <th>4</th>\n",
       "      <td>0.230321</td>\n",
       "      <td>0.374231</td>\n",
       "      <td>0.252528</td>\n",
       "      <td>0.489643</td>\n",
       "      <td>-2.133981</td>\n",
       "      <td>-18.272176</td>\n",
       "      <td>-2.323993</td>\n",
       "      <td>-2.366489</td>\n",
       "      <td>0.0</td>\n",
       "      <td>0.0</td>\n",
       "      <td>...</td>\n",
       "      <td>0.370440</td>\n",
       "      <td>0.522625</td>\n",
       "      <td>-0.178845</td>\n",
       "      <td>0.078226</td>\n",
       "      <td>-1.477371</td>\n",
       "      <td>-1.452094</td>\n",
       "      <td>-1.514059</td>\n",
       "      <td>-1.415123</td>\n",
       "      <td>-1.370064</td>\n",
       "      <td>-29.607050</td>\n",
       "    </tr>\n",
       "  </tbody>\n",
       "</table>\n",
       "<p>5 rows × 50 columns</p>\n",
       "</div>"
      ],
      "text/plain": [
       "      x0_t0     x0_t1     x0_t4     x0_t5     x11_t6     x13_t6    x14_t0  \\\n",
       "0  0.341454 -0.192542  0.670644  0.765069   0.000000   0.000000 -0.158093   \n",
       "1  0.367209 -0.543077  0.315815  0.561028  43.436098 -68.154663 -0.011889   \n",
       "2  0.602365 -0.005747  0.219418  0.135268   0.000000   0.000000  0.050348   \n",
       "3  0.173457 -0.161930 -0.018458 -0.037751   0.000000   0.000000  0.058458   \n",
       "4  0.230321  0.374231  0.252528  0.489643  -2.133981 -18.272176 -2.323993   \n",
       "\n",
       "     x14_t1  x19_t0  x21_t6  ...    x54_t1    x54_t4    x54_t5     x5_t0  \\\n",
       "0 -0.147592     0.0     0.0  ... -0.197470 -0.556309  0.000000  0.002385   \n",
       "1 -0.011033     0.0     2.0  ... -0.366876  0.055503 -0.064210 -1.303557   \n",
       "2  0.059533     0.0     0.0  ...  0.168994  0.090487  0.000000  0.626706   \n",
       "3  0.063516     0.0     0.0  ...  0.645119  0.953678  0.000000 -0.048847   \n",
       "4 -2.366489     0.0     0.0  ...  0.370440  0.522625 -0.178845  0.078226   \n",
       "\n",
       "      x9_t1     x9_t2     x9_t3     x9_t4     x9_t5      x9_t6  \n",
       "0  0.146540  0.104183  0.127059  0.839366  0.218387   0.000000  \n",
       "1  1.095057  0.575429  0.192906 -0.033049  0.994369  -7.877544  \n",
       "2 -0.823395 -0.604609  0.511088  0.546038 -0.089444   0.000000  \n",
       "3  0.075218  0.925255  0.244286  0.986695  0.995608   0.000000  \n",
       "4 -1.477371 -1.452094 -1.514059 -1.415123 -1.370064 -29.607050  \n",
       "\n",
       "[5 rows x 50 columns]"
      ]
     },
     "execution_count": 351,
     "metadata": {},
     "output_type": "execute_result"
    }
   ],
   "source": [
    "scaled_df.head()"
   ]
  },
  {
   "cell_type": "code",
   "execution_count": 373,
   "metadata": {
    "id": "Yh3mWIRoS-Kx"
   },
   "outputs": [],
   "source": [
    "X = scaled_df"
   ]
  },
  {
   "cell_type": "code",
   "execution_count": 264,
   "metadata": {
    "colab": {
     "base_uri": "https://localhost:8080/"
    },
    "id": "OzCuThTiTpYk",
    "outputId": "3f1cfb85-f0fc-47d3-9e0b-ac09c910f58c"
   },
   "outputs": [
    {
     "data": {
      "text/plain": [
       "(780, 66)"
      ]
     },
     "execution_count": 264,
     "metadata": {},
     "output_type": "execute_result"
    }
   ],
   "source": [
    "X.shape"
   ]
  },
  {
   "cell_type": "code",
   "execution_count": 353,
   "metadata": {},
   "outputs": [
    {
     "data": {
      "text/html": [
       "<div>\n",
       "<style scoped>\n",
       "    .dataframe tbody tr th:only-of-type {\n",
       "        vertical-align: middle;\n",
       "    }\n",
       "\n",
       "    .dataframe tbody tr th {\n",
       "        vertical-align: top;\n",
       "    }\n",
       "\n",
       "    .dataframe thead th {\n",
       "        text-align: right;\n",
       "    }\n",
       "</style>\n",
       "<table border=\"1\" class=\"dataframe\">\n",
       "  <thead>\n",
       "    <tr style=\"text-align: right;\">\n",
       "      <th></th>\n",
       "      <th>x0_t0</th>\n",
       "      <th>x0_t1</th>\n",
       "      <th>x0_t4</th>\n",
       "      <th>x0_t5</th>\n",
       "      <th>x11_t6</th>\n",
       "      <th>x13_t6</th>\n",
       "      <th>x14_t0</th>\n",
       "      <th>x14_t1</th>\n",
       "      <th>x19_t0</th>\n",
       "      <th>x21_t6</th>\n",
       "      <th>...</th>\n",
       "      <th>x54_t1</th>\n",
       "      <th>x54_t4</th>\n",
       "      <th>x54_t5</th>\n",
       "      <th>x5_t0</th>\n",
       "      <th>x9_t1</th>\n",
       "      <th>x9_t2</th>\n",
       "      <th>x9_t3</th>\n",
       "      <th>x9_t4</th>\n",
       "      <th>x9_t5</th>\n",
       "      <th>x9_t6</th>\n",
       "    </tr>\n",
       "  </thead>\n",
       "  <tbody>\n",
       "    <tr>\n",
       "      <th>0</th>\n",
       "      <td>-1.069274</td>\n",
       "      <td>-0.316786</td>\n",
       "      <td>0.006159</td>\n",
       "      <td>-0.612149</td>\n",
       "      <td>0.0</td>\n",
       "      <td>0.0</td>\n",
       "      <td>0.069571</td>\n",
       "      <td>0.185427</td>\n",
       "      <td>0.0</td>\n",
       "      <td>0.0</td>\n",
       "      <td>...</td>\n",
       "      <td>-0.234146</td>\n",
       "      <td>-1.121932</td>\n",
       "      <td>0.0</td>\n",
       "      <td>0.051654</td>\n",
       "      <td>-0.246359</td>\n",
       "      <td>-0.171192</td>\n",
       "      <td>0.203564</td>\n",
       "      <td>0.665243</td>\n",
       "      <td>0.787070</td>\n",
       "      <td>0.0</td>\n",
       "    </tr>\n",
       "    <tr>\n",
       "      <th>1</th>\n",
       "      <td>-0.300773</td>\n",
       "      <td>-0.113628</td>\n",
       "      <td>-0.317021</td>\n",
       "      <td>-0.254524</td>\n",
       "      <td>0.0</td>\n",
       "      <td>0.0</td>\n",
       "      <td>-1.182892</td>\n",
       "      <td>-3.625023</td>\n",
       "      <td>0.0</td>\n",
       "      <td>0.0</td>\n",
       "      <td>...</td>\n",
       "      <td>-0.936274</td>\n",
       "      <td>0.391950</td>\n",
       "      <td>0.0</td>\n",
       "      <td>-0.700137</td>\n",
       "      <td>0.352354</td>\n",
       "      <td>0.432546</td>\n",
       "      <td>0.302901</td>\n",
       "      <td>0.168505</td>\n",
       "      <td>0.750947</td>\n",
       "      <td>0.0</td>\n",
       "    </tr>\n",
       "    <tr>\n",
       "      <th>2</th>\n",
       "      <td>1.466356</td>\n",
       "      <td>0.756180</td>\n",
       "      <td>1.499180</td>\n",
       "      <td>0.946143</td>\n",
       "      <td>0.0</td>\n",
       "      <td>0.0</td>\n",
       "      <td>-0.187729</td>\n",
       "      <td>-0.565713</td>\n",
       "      <td>0.0</td>\n",
       "      <td>0.0</td>\n",
       "      <td>...</td>\n",
       "      <td>-0.609871</td>\n",
       "      <td>0.790690</td>\n",
       "      <td>0.0</td>\n",
       "      <td>0.412757</td>\n",
       "      <td>0.068255</td>\n",
       "      <td>0.067512</td>\n",
       "      <td>-0.122690</td>\n",
       "      <td>0.112248</td>\n",
       "      <td>0.181445</td>\n",
       "      <td>0.0</td>\n",
       "    </tr>\n",
       "    <tr>\n",
       "      <th>3</th>\n",
       "      <td>0.263517</td>\n",
       "      <td>0.304215</td>\n",
       "      <td>-0.019288</td>\n",
       "      <td>0.234940</td>\n",
       "      <td>0.0</td>\n",
       "      <td>0.0</td>\n",
       "      <td>-0.218451</td>\n",
       "      <td>-0.662971</td>\n",
       "      <td>0.0</td>\n",
       "      <td>0.0</td>\n",
       "      <td>...</td>\n",
       "      <td>0.260822</td>\n",
       "      <td>-0.421536</td>\n",
       "      <td>0.0</td>\n",
       "      <td>-0.071162</td>\n",
       "      <td>-0.597639</td>\n",
       "      <td>-0.632470</td>\n",
       "      <td>-0.623595</td>\n",
       "      <td>-0.821823</td>\n",
       "      <td>-0.740708</td>\n",
       "      <td>0.0</td>\n",
       "    </tr>\n",
       "    <tr>\n",
       "      <th>4</th>\n",
       "      <td>0.974738</td>\n",
       "      <td>0.918742</td>\n",
       "      <td>0.991119</td>\n",
       "      <td>0.444591</td>\n",
       "      <td>0.0</td>\n",
       "      <td>0.0</td>\n",
       "      <td>-2.927669</td>\n",
       "      <td>-8.937655</td>\n",
       "      <td>0.0</td>\n",
       "      <td>0.0</td>\n",
       "      <td>...</td>\n",
       "      <td>1.140529</td>\n",
       "      <td>0.537844</td>\n",
       "      <td>0.0</td>\n",
       "      <td>0.647210</td>\n",
       "      <td>-0.658692</td>\n",
       "      <td>-0.700739</td>\n",
       "      <td>-0.784723</td>\n",
       "      <td>-0.984992</td>\n",
       "      <td>-0.890614</td>\n",
       "      <td>0.0</td>\n",
       "    </tr>\n",
       "  </tbody>\n",
       "</table>\n",
       "<p>5 rows × 50 columns</p>\n",
       "</div>"
      ],
      "text/plain": [
       "      x0_t0     x0_t1     x0_t4     x0_t5  x11_t6  x13_t6    x14_t0    x14_t1  \\\n",
       "0 -1.069274 -0.316786  0.006159 -0.612149     0.0     0.0  0.069571  0.185427   \n",
       "1 -0.300773 -0.113628 -0.317021 -0.254524     0.0     0.0 -1.182892 -3.625023   \n",
       "2  1.466356  0.756180  1.499180  0.946143     0.0     0.0 -0.187729 -0.565713   \n",
       "3  0.263517  0.304215 -0.019288  0.234940     0.0     0.0 -0.218451 -0.662971   \n",
       "4  0.974738  0.918742  0.991119  0.444591     0.0     0.0 -2.927669 -8.937655   \n",
       "\n",
       "   x19_t0  x21_t6  ...    x54_t1    x54_t4  x54_t5     x5_t0     x9_t1  \\\n",
       "0     0.0     0.0  ... -0.234146 -1.121932     0.0  0.051654 -0.246359   \n",
       "1     0.0     0.0  ... -0.936274  0.391950     0.0 -0.700137  0.352354   \n",
       "2     0.0     0.0  ... -0.609871  0.790690     0.0  0.412757  0.068255   \n",
       "3     0.0     0.0  ...  0.260822 -0.421536     0.0 -0.071162 -0.597639   \n",
       "4     0.0     0.0  ...  1.140529  0.537844     0.0  0.647210 -0.658692   \n",
       "\n",
       "      x9_t2     x9_t3     x9_t4     x9_t5  x9_t6  \n",
       "0 -0.171192  0.203564  0.665243  0.787070    0.0  \n",
       "1  0.432546  0.302901  0.168505  0.750947    0.0  \n",
       "2  0.067512 -0.122690  0.112248  0.181445    0.0  \n",
       "3 -0.632470 -0.623595 -0.821823 -0.740708    0.0  \n",
       "4 -0.700739 -0.784723 -0.984992 -0.890614    0.0  \n",
       "\n",
       "[5 rows x 50 columns]"
      ]
     },
     "execution_count": 353,
     "metadata": {},
     "output_type": "execute_result"
    }
   ],
   "source": [
    "scaled_df_p.head()"
   ]
  },
  {
   "cell_type": "code",
   "execution_count": 374,
   "metadata": {},
   "outputs": [],
   "source": [
    "X_test_p = scaled_df_p"
   ]
  },
  {
   "cell_type": "code",
   "execution_count": null,
   "metadata": {},
   "outputs": [],
   "source": []
  },
  {
   "cell_type": "markdown",
   "metadata": {
    "id": "JyrQ8RX5JvmD"
   },
   "source": [
    "## MODEL BUILDING"
   ]
  },
  {
   "cell_type": "code",
   "execution_count": 375,
   "metadata": {
    "id": "v_oJPM0xJvmD"
   },
   "outputs": [],
   "source": [
    "#Importing required models\n",
    "from sklearn.linear_model import LinearRegression, Lasso, Ridge\n",
    "from sklearn.tree import DecisionTreeRegressor\n",
    "from sklearn.ensemble import RandomForestRegressor\n",
    "from sklearn.model_selection import train_test_split\n",
    "from sklearn.metrics import mean_squared_error"
   ]
  },
  {
   "cell_type": "code",
   "execution_count": 332,
   "metadata": {},
   "outputs": [
    {
     "name": "stdout",
     "output_type": "stream",
     "text": [
      "(780, 15)\n"
     ]
    },
    {
     "data": {
      "text/plain": [
       "-0.03530070728013568"
      ]
     },
     "execution_count": 332,
     "metadata": {},
     "output_type": "execute_result"
    }
   ],
   "source": [
    "\n",
    "#X_trans = StandardScaler().fit_transform(X)\n",
    "X_trans = X\n",
    "\n",
    "from sklearn.decomposition import PCA\n",
    "pca = PCA(n_components=15)\n",
    "principalComponents = pca.fit_transform(X_trans)\n",
    "pDf_15 = pd.DataFrame(data = principalComponents\n",
    "             , columns = ['pc1','pc2','pc3','pc4','pc5','pc6','pc7','pc8','pc9','pc10','pc11','pc12','pc13','pc14','pc15'])\n",
    "\n",
    "print(pDf_15.shape)\n",
    "\n",
    "from sklearn.model_selection import train_test_split\n",
    "X_train,X_test,y_train,y_test=train_test_split(pDf_15,y,test_size=0.1, random_state=100)\n",
    "\n",
    "from sklearn.linear_model import LinearRegression\n",
    "sklr = LinearRegression()\n",
    "sklr.fit(X_train,y_train)\n",
    "sklr.score(X_test,y_test)\n"
   ]
  },
  {
   "cell_type": "code",
   "execution_count": 356,
   "metadata": {},
   "outputs": [],
   "source": [
    "#Test Data\n",
    "#X_trans_test_20 = StandardScaler().fit_transform(X_test)\n",
    "X_trans_test_15 = X_test_p \n",
    "pca = PCA(n_components=15)\n",
    "principalComponents = pca.fit_transform(X_trans_test_15)\n",
    "pDf_test_20 = pd.DataFrame(data = principalComponents\n",
    "             , columns = ['pc1','pc2','pc3','pc4','pc5','pc6','pc7','pc8','pc9','pc10','pc11','pc12','pc13','pc14','pc15'])\n"
   ]
  },
  {
   "cell_type": "code",
   "execution_count": 337,
   "metadata": {},
   "outputs": [
    {
     "ename": "ValueError",
     "evalue": "matmul: Input operand 1 has a mismatch in its core dimension 0, with gufunc signature (n?,k),(k,m?)->(n?,m?) (size 15 is different from 50)",
     "output_type": "error",
     "traceback": [
      "\u001b[1;31m---------------------------------------------------------------------------\u001b[0m",
      "\u001b[1;31mValueError\u001b[0m                                Traceback (most recent call last)",
      "\u001b[1;32m<ipython-input-337-877c264e7b7e>\u001b[0m in \u001b[0;36m<module>\u001b[1;34m\u001b[0m\n\u001b[1;32m----> 1\u001b[1;33m \u001b[0msklr\u001b[0m\u001b[1;33m.\u001b[0m\u001b[0mpredict\u001b[0m\u001b[1;33m(\u001b[0m\u001b[0mX_test_p\u001b[0m\u001b[1;33m)\u001b[0m\u001b[1;33m\u001b[0m\u001b[1;33m\u001b[0m\u001b[0m\n\u001b[0m",
      "\u001b[1;32m~\\anaconda3\\lib\\site-packages\\sklearn\\linear_model\\_base.py\u001b[0m in \u001b[0;36mpredict\u001b[1;34m(self, X)\u001b[0m\n\u001b[0;32m    234\u001b[0m             \u001b[0mReturns\u001b[0m \u001b[0mpredicted\u001b[0m \u001b[0mvalues\u001b[0m\u001b[1;33m.\u001b[0m\u001b[1;33m\u001b[0m\u001b[1;33m\u001b[0m\u001b[0m\n\u001b[0;32m    235\u001b[0m         \"\"\"\n\u001b[1;32m--> 236\u001b[1;33m         \u001b[1;32mreturn\u001b[0m \u001b[0mself\u001b[0m\u001b[1;33m.\u001b[0m\u001b[0m_decision_function\u001b[0m\u001b[1;33m(\u001b[0m\u001b[0mX\u001b[0m\u001b[1;33m)\u001b[0m\u001b[1;33m\u001b[0m\u001b[1;33m\u001b[0m\u001b[0m\n\u001b[0m\u001b[0;32m    237\u001b[0m \u001b[1;33m\u001b[0m\u001b[0m\n\u001b[0;32m    238\u001b[0m     \u001b[0m_preprocess_data\u001b[0m \u001b[1;33m=\u001b[0m \u001b[0mstaticmethod\u001b[0m\u001b[1;33m(\u001b[0m\u001b[0m_preprocess_data\u001b[0m\u001b[1;33m)\u001b[0m\u001b[1;33m\u001b[0m\u001b[1;33m\u001b[0m\u001b[0m\n",
      "\u001b[1;32m~\\anaconda3\\lib\\site-packages\\sklearn\\linear_model\\_base.py\u001b[0m in \u001b[0;36m_decision_function\u001b[1;34m(self, X)\u001b[0m\n\u001b[0;32m    217\u001b[0m \u001b[1;33m\u001b[0m\u001b[0m\n\u001b[0;32m    218\u001b[0m         \u001b[0mX\u001b[0m \u001b[1;33m=\u001b[0m \u001b[0mcheck_array\u001b[0m\u001b[1;33m(\u001b[0m\u001b[0mX\u001b[0m\u001b[1;33m,\u001b[0m \u001b[0maccept_sparse\u001b[0m\u001b[1;33m=\u001b[0m\u001b[1;33m[\u001b[0m\u001b[1;34m'csr'\u001b[0m\u001b[1;33m,\u001b[0m \u001b[1;34m'csc'\u001b[0m\u001b[1;33m,\u001b[0m \u001b[1;34m'coo'\u001b[0m\u001b[1;33m]\u001b[0m\u001b[1;33m)\u001b[0m\u001b[1;33m\u001b[0m\u001b[1;33m\u001b[0m\u001b[0m\n\u001b[1;32m--> 219\u001b[1;33m         return safe_sparse_dot(X, self.coef_.T,\n\u001b[0m\u001b[0;32m    220\u001b[0m                                dense_output=True) + self.intercept_\n\u001b[0;32m    221\u001b[0m \u001b[1;33m\u001b[0m\u001b[0m\n",
      "\u001b[1;32m~\\anaconda3\\lib\\site-packages\\sklearn\\utils\\validation.py\u001b[0m in \u001b[0;36minner_f\u001b[1;34m(*args, **kwargs)\u001b[0m\n\u001b[0;32m     71\u001b[0m                           FutureWarning)\n\u001b[0;32m     72\u001b[0m         \u001b[0mkwargs\u001b[0m\u001b[1;33m.\u001b[0m\u001b[0mupdate\u001b[0m\u001b[1;33m(\u001b[0m\u001b[1;33m{\u001b[0m\u001b[0mk\u001b[0m\u001b[1;33m:\u001b[0m \u001b[0marg\u001b[0m \u001b[1;32mfor\u001b[0m \u001b[0mk\u001b[0m\u001b[1;33m,\u001b[0m \u001b[0marg\u001b[0m \u001b[1;32min\u001b[0m \u001b[0mzip\u001b[0m\u001b[1;33m(\u001b[0m\u001b[0msig\u001b[0m\u001b[1;33m.\u001b[0m\u001b[0mparameters\u001b[0m\u001b[1;33m,\u001b[0m \u001b[0margs\u001b[0m\u001b[1;33m)\u001b[0m\u001b[1;33m}\u001b[0m\u001b[1;33m)\u001b[0m\u001b[1;33m\u001b[0m\u001b[1;33m\u001b[0m\u001b[0m\n\u001b[1;32m---> 73\u001b[1;33m         \u001b[1;32mreturn\u001b[0m \u001b[0mf\u001b[0m\u001b[1;33m(\u001b[0m\u001b[1;33m**\u001b[0m\u001b[0mkwargs\u001b[0m\u001b[1;33m)\u001b[0m\u001b[1;33m\u001b[0m\u001b[1;33m\u001b[0m\u001b[0m\n\u001b[0m\u001b[0;32m     74\u001b[0m     \u001b[1;32mreturn\u001b[0m \u001b[0minner_f\u001b[0m\u001b[1;33m\u001b[0m\u001b[1;33m\u001b[0m\u001b[0m\n\u001b[0;32m     75\u001b[0m \u001b[1;33m\u001b[0m\u001b[0m\n",
      "\u001b[1;32m~\\anaconda3\\lib\\site-packages\\sklearn\\utils\\extmath.py\u001b[0m in \u001b[0;36msafe_sparse_dot\u001b[1;34m(a, b, dense_output)\u001b[0m\n\u001b[0;32m    151\u001b[0m             \u001b[0mret\u001b[0m \u001b[1;33m=\u001b[0m \u001b[0mnp\u001b[0m\u001b[1;33m.\u001b[0m\u001b[0mdot\u001b[0m\u001b[1;33m(\u001b[0m\u001b[0ma\u001b[0m\u001b[1;33m,\u001b[0m \u001b[0mb\u001b[0m\u001b[1;33m)\u001b[0m\u001b[1;33m\u001b[0m\u001b[1;33m\u001b[0m\u001b[0m\n\u001b[0;32m    152\u001b[0m     \u001b[1;32melse\u001b[0m\u001b[1;33m:\u001b[0m\u001b[1;33m\u001b[0m\u001b[1;33m\u001b[0m\u001b[0m\n\u001b[1;32m--> 153\u001b[1;33m         \u001b[0mret\u001b[0m \u001b[1;33m=\u001b[0m \u001b[0ma\u001b[0m \u001b[1;33m@\u001b[0m \u001b[0mb\u001b[0m\u001b[1;33m\u001b[0m\u001b[1;33m\u001b[0m\u001b[0m\n\u001b[0m\u001b[0;32m    154\u001b[0m \u001b[1;33m\u001b[0m\u001b[0m\n\u001b[0;32m    155\u001b[0m     if (sparse.issparse(a) and sparse.issparse(b)\n",
      "\u001b[1;31mValueError\u001b[0m: matmul: Input operand 1 has a mismatch in its core dimension 0, with gufunc signature (n?,k),(k,m?)->(n?,m?) (size 15 is different from 50)"
     ]
    }
   ],
   "source": [
    "sklr.predict(X_test_p)"
   ]
  },
  {
   "cell_type": "code",
   "execution_count": null,
   "metadata": {},
   "outputs": [],
   "source": []
  },
  {
   "cell_type": "code",
   "execution_count": 376,
   "metadata": {
    "colab": {
     "base_uri": "https://localhost:8080/",
     "height": 231
    },
    "id": "BkBAJXUYJvmE",
    "outputId": "70227541-ffb0-42f8-dafd-cab13118d349"
   },
   "outputs": [
    {
     "name": "stdout",
     "output_type": "stream",
     "text": [
      "(702, 50)\n",
      "(78, 50)\n"
     ]
    }
   ],
   "source": [
    "#Train Test Split\n",
    "X_train, X_test, y_train, y_test = train_test_split(X, y, train_size=0.9, random_state=10)\n",
    "\n",
    "print(X_train.shape)\n",
    "print(X_test.shape)"
   ]
  },
  {
   "cell_type": "code",
   "execution_count": 377,
   "metadata": {
    "id": "_aHGt9uLJvmE"
   },
   "outputs": [],
   "source": [
    "# Instantiate all the models\n",
    "\n",
    "lr = LinearRegression()\n",
    "ls = Lasso()\n",
    "rd = Ridge()\n",
    "dr = DecisionTreeRegressor()\n",
    "rr = RandomForestRegressor()"
   ]
  },
  {
   "cell_type": "code",
   "execution_count": 378,
   "metadata": {
    "id": "UEPF776dJvmE"
   },
   "outputs": [
    {
     "data": {
      "text/plain": [
       "LinearRegression()"
      ]
     },
     "execution_count": 378,
     "metadata": {},
     "output_type": "execute_result"
    }
   ],
   "source": [
    "#Linear Regression\n",
    "lr.fit(X_train,y_train)"
   ]
  },
  {
   "cell_type": "code",
   "execution_count": 379,
   "metadata": {
    "id": "4OnBZrixJvmE"
   },
   "outputs": [],
   "source": [
    "\n",
    "y_pred = lr.predict(X_test)"
   ]
  },
  {
   "cell_type": "code",
   "execution_count": 380,
   "metadata": {},
   "outputs": [],
   "source": [
    "y_pred_p = lr.predict(X_test_p)"
   ]
  },
  {
   "cell_type": "code",
   "execution_count": 381,
   "metadata": {},
   "outputs": [
    {
     "name": "stdout",
     "output_type": "stream",
     "text": [
      "[0.5312536  0.46353647 0.54015258 0.52591566 0.52659635 0.5152589\n",
      " 0.56494903 0.53102254 0.4989025  0.51488655 0.60904952 0.5431064\n",
      " 0.52710702 0.47366023 0.5974394  0.58679702 0.40655418 0.54908096\n",
      " 0.53214985 0.49590912 0.51594421 0.47432418 0.5478035  0.56192544\n",
      " 0.45951491 0.46731992 0.48645502 0.54642358 0.57994986 0.64711482\n",
      " 0.53780286 0.60160283 0.5201704  0.55738534 0.56709811 0.58020972\n",
      " 0.66342264 0.52012784 0.54281169 0.54672341 0.53299572 0.51547143\n",
      " 0.52025024 0.53869676 0.59336322 0.53095929 0.47572164 0.43157303\n",
      " 0.5466     0.61049794 0.53156961 0.47891367 0.5650719  0.51796855\n",
      " 0.49644235 0.70608664 0.54867722 0.62093298 0.50818042 0.53651738\n",
      " 0.49833517 0.41176749 0.65779811 0.65156811 0.5890559  0.59137523\n",
      " 0.57455661 0.4782354  0.60741615 0.58734281 0.58123676 0.50668721\n",
      " 0.55916592 0.46951354 0.55777266 0.59524095 0.59223335 0.48666426\n",
      " 0.58161677 0.51231856 0.55572912 0.51148359 0.5160555  0.61018298\n",
      " 0.37300854 0.48144521 0.45674045 0.5072671  0.60462616]\n"
     ]
    }
   ],
   "source": [
    "print(y_pred_p)"
   ]
  },
  {
   "cell_type": "code",
   "execution_count": 291,
   "metadata": {},
   "outputs": [],
   "source": [
    "sub_df = pd.read_csv(r\"C:\\Users\\Namrata\\Downloads\\file\\sample_submission.csv\")\n",
    "sub_df['y2'] = y_pred_p\n",
    "sub_df.to_csv(r\"C:\\Users\\Namrata\\Downloads\\file\\sample_submission_lr_8.csv\",index=False)"
   ]
  },
  {
   "cell_type": "code",
   "execution_count": 73,
   "metadata": {},
   "outputs": [],
   "source": [
    "y2 = y_pred_p.tolist()\n",
    "submission = pd.DataFrame(y2)\n",
    "submission.head()\n",
    "submission.to_csv('Sample_submission_lr.csv', index=False)"
   ]
  },
  {
   "cell_type": "code",
   "execution_count": 21,
   "metadata": {
    "id": "tF7iIfVyJvmE"
   },
   "outputs": [],
   "source": [
    "#residuals= y_pred - y_true"
   ]
  },
  {
   "cell_type": "code",
   "execution_count": 22,
   "metadata": {
    "id": "BBSw0Fv3JvmF"
   },
   "outputs": [],
   "source": [
    "#Residual Plot\n",
    "#plt.hist(X_test['residuals'])\n",
    "#plt.show()"
   ]
  },
  {
   "cell_type": "code",
   "execution_count": 23,
   "metadata": {
    "id": "IxuZz248JvmF"
   },
   "outputs": [
    {
     "name": "stdout",
     "output_type": "stream",
     "text": [
      "R squared: -5.521665268665077\n"
     ]
    }
   ],
   "source": [
    "print(\"R squared: {}\".format(r2_score(y_true=y_test,y_pred=y_pred)))"
   ]
  },
  {
   "cell_type": "code",
   "execution_count": 292,
   "metadata": {
    "id": "MzP1ACLtJvmF"
   },
   "outputs": [
    {
     "name": "stdout",
     "output_type": "stream",
     "text": [
      "R squared: -0.043501514207788805\n"
     ]
    }
   ],
   "source": [
    "#Lasoo Regression\n",
    "ls.fit(X_train, y_train)\n",
    "y_pred_ls = ls.predict(X_test)\n",
    "print(\"R squared: {}\".format(r2_score(y_true=y_test,y_pred=y_pred_ls)))"
   ]
  },
  {
   "cell_type": "code",
   "execution_count": 301,
   "metadata": {},
   "outputs": [],
   "source": [
    "y_pred_p = ls.predict(X_test_p)"
   ]
  },
  {
   "cell_type": "code",
   "execution_count": 302,
   "metadata": {},
   "outputs": [
    {
     "data": {
      "text/plain": [
       "array([0.51007605, 0.51005313, 0.51007808, 0.51007834, 0.51005358,\n",
       "       0.51006184, 0.51006547, 0.51006689, 0.50532434, 0.51006722,\n",
       "       0.51009715, 0.51006827, 0.51006115, 0.51006549, 0.51008763,\n",
       "       0.51007723, 0.51004996, 0.51006791, 0.51005651, 0.51006453,\n",
       "       0.51009391, 0.51005403, 0.51007427, 0.51008448, 0.51005279,\n",
       "       0.51007236, 0.51006594, 0.51006488, 0.51007118, 0.51075351,\n",
       "       0.51005109, 0.51202204, 0.5100942 , 0.5100595 , 0.51007957,\n",
       "       0.50855087, 0.51218084, 0.51006688, 0.51006586, 0.51008914,\n",
       "       0.5100676 , 0.5100643 , 0.510065  , 0.51006092, 0.5100822 ,\n",
       "       0.51008997, 0.51006648, 0.51005714, 0.51005627, 0.51006779,\n",
       "       0.51007842, 0.51006537, 0.51007109, 0.51009635, 0.51007486,\n",
       "       0.50830508, 0.51007011, 0.51007902, 0.51007409, 0.51006741,\n",
       "       0.5100663 , 0.51004955, 0.51581801, 0.51124868, 0.51006349,\n",
       "       0.49297759, 0.5100674 , 0.51004465, 0.50714094, 0.51420551,\n",
       "       0.51006713, 0.50813806, 0.51006626, 0.48653746, 0.51107496,\n",
       "       0.5100646 , 0.51006418, 0.51007211, 0.5155464 , 0.51006271,\n",
       "       0.48727826, 0.5100655 , 0.51006593, 0.5151056 , 0.51006432,\n",
       "       0.51006524, 0.4726976 , 0.51006462, 0.50848295])"
      ]
     },
     "execution_count": 302,
     "metadata": {},
     "output_type": "execute_result"
    }
   ],
   "source": [
    "y_pred_p"
   ]
  },
  {
   "cell_type": "code",
   "execution_count": 293,
   "metadata": {
    "id": "6u2lFoqRJvmF"
   },
   "outputs": [
    {
     "name": "stdout",
     "output_type": "stream",
     "text": [
      "R squared: 0.0417841968348005\n"
     ]
    }
   ],
   "source": [
    "#Ridge\n",
    "rd.fit(X_train, y_train)\n",
    "y_pred_rd = rd.predict(X_test)\n",
    "print(\"R squared: {}\".format(r2_score(y_true=y_test,y_pred=y_pred_rd)))"
   ]
  },
  {
   "cell_type": "code",
   "execution_count": 306,
   "metadata": {},
   "outputs": [],
   "source": [
    "y_pred_p_rd = rd.predict(X_test_p)"
   ]
  },
  {
   "cell_type": "code",
   "execution_count": 304,
   "metadata": {},
   "outputs": [
    {
     "data": {
      "text/plain": [
       "array([ 1.2941589 ,  1.51558127,  1.37468333,  1.1721819 ,  2.24197977,\n",
       "        1.01226983,  1.5074133 ,  1.21356589,  1.78249017,  1.29303656,\n",
       "        1.53044831,  2.22804202,  1.19524656,  1.09731643,  2.92914357,\n",
       "        1.61316453, -1.05867567,  1.41557634,  1.25548887,  1.89423022,\n",
       "        0.84950442,  1.57267521,  1.1536588 ,  1.38036127,  1.15201327,\n",
       "       -0.30951949,  0.65567126,  1.3058996 ,  1.4062762 ,  1.33102903,\n",
       "        2.20503258,  1.50296334,  1.11654524,  1.47801802,  1.34354888,\n",
       "        1.20078326,  1.71812925,  1.93010009,  1.42499266,  1.19905114,\n",
       "        1.30772843,  1.31631439,  1.29083958,  1.39904232,  2.26687292,\n",
       "        1.09536662,  1.16742849, -1.06257092,  2.13895401,  1.60781805,\n",
       "        1.7621689 ,  0.98694328,  0.9814352 ,  1.00330382,  1.17644264,\n",
       "        1.59156154,  2.05016125,  1.6185221 ,  1.58052857,  1.38128663,\n",
       "        1.13891757, -1.08355724,  3.06492016,  2.20104922,  3.08004921,\n",
       "        1.47049839,  1.35385122,  0.85931087,  2.15572372,  1.32894275,\n",
       "        1.59518136,  1.37870755,  1.39449809,  0.99701429,  2.8784887 ,\n",
       "        3.02446268,  1.37328415,  1.12862825,  3.13016113,  1.11580651,\n",
       "        1.16566577,  1.60280218,  3.02049937,  1.25440374, -1.21902927,\n",
       "        1.09542165,  0.97523371,  1.16079308,  1.49551143])"
      ]
     },
     "execution_count": 304,
     "metadata": {},
     "output_type": "execute_result"
    }
   ],
   "source": [
    "y_pred_p"
   ]
  },
  {
   "cell_type": "code",
   "execution_count": 307,
   "metadata": {},
   "outputs": [],
   "source": [
    "sub_df = pd.read_csv(r\"C:\\Users\\Namrata\\Downloads\\file\\sample_submission.csv\")\n",
    "sub_df['y2'] = y_pred_p_rd\n",
    "sub_df.to_csv(r\"C:\\Users\\Namrata\\Downloads\\file\\sample_submission_lr_9.csv\",index=False)"
   ]
  },
  {
   "cell_type": "code",
   "execution_count": 308,
   "metadata": {
    "id": "xksbPO7pJvmF"
   },
   "outputs": [
    {
     "name": "stdout",
     "output_type": "stream",
     "text": [
      "R squared: -0.6650171646261631\n"
     ]
    }
   ],
   "source": [
    "#Decision Tree Regressor\n",
    "dr.fit(X_train, y_train)\n",
    "y_pred_dr = dr.predict(X_test)\n",
    "print(\"R squared: {}\".format(r2_score(y_true=y_test,y_pred=y_pred_dr)))"
   ]
  },
  {
   "cell_type": "code",
   "execution_count": 309,
   "metadata": {},
   "outputs": [],
   "source": [
    "y_pred_p_dr = dr.predict(X_test_p)"
   ]
  },
  {
   "cell_type": "code",
   "execution_count": 310,
   "metadata": {},
   "outputs": [
    {
     "data": {
      "text/plain": [
       "array([0., 0., 0., 0., 0., 0., 0., 0., 0., 0., 0., 0., 0., 0., 0., 0., 0.,\n",
       "       0., 0., 0., 0., 0., 0., 0., 0., 0., 0., 0., 0., 0., 0., 0., 0., 0.,\n",
       "       0., 0., 0., 0., 0., 0., 0., 0., 0., 0., 0., 0., 0., 0., 0., 0., 0.,\n",
       "       0., 0., 0., 0., 0., 0., 0., 0., 0., 0., 0., 0., 0., 0., 0., 0., 0.,\n",
       "       0., 0., 0., 0., 0., 0., 0., 0., 0., 0., 0., 0., 0., 0., 0., 0., 0.,\n",
       "       0., 0., 0., 0.])"
      ]
     },
     "execution_count": 310,
     "metadata": {},
     "output_type": "execute_result"
    }
   ],
   "source": [
    "y_pred_p_dr"
   ]
  },
  {
   "cell_type": "code",
   "execution_count": 299,
   "metadata": {
    "id": "DxdVyFBCJvmF"
   },
   "outputs": [
    {
     "name": "stdout",
     "output_type": "stream",
     "text": [
      "R squared: 0.04828154686104391\n"
     ]
    }
   ],
   "source": [
    "#Random Forest Regressor\n",
    "rr.fit(X_train, y_train)\n",
    "y_pred_rr = rr.predict(X_test)\n",
    "print(\"R squared: {}\".format(r2_score(y_true=y_test,y_pred=y_pred_rr)))"
   ]
  },
  {
   "cell_type": "code",
   "execution_count": 311,
   "metadata": {},
   "outputs": [
    {
     "data": {
      "text/plain": [
       "array([0.194 , 0.1865, 0.1872, 0.1842, 0.1915, 0.2225, 0.1915, 0.1973,\n",
       "       0.1649, 0.1991, 0.1915, 0.1915, 0.176 , 0.1918, 0.1857, 0.1918,\n",
       "       0.2176, 0.1903, 0.1816, 0.1912, 0.1723, 0.1943, 0.2418, 0.205 ,\n",
       "       0.1822, 0.2222, 0.2218, 0.1916, 0.1915, 0.1682, 0.1863, 0.1754,\n",
       "       0.1845, 0.1915, 0.1943, 0.1844, 0.1781, 0.181 , 0.1915, 0.181 ,\n",
       "       0.1887, 0.1943, 0.1978, 0.1871, 0.1943, 0.1859, 0.1855, 0.2299,\n",
       "       0.1771, 0.21  , 0.1809, 0.1762, 0.2207, 0.1828, 0.2058, 0.175 ,\n",
       "       0.1933, 0.1803, 0.196 , 0.1915, 0.1962, 0.2207, 0.175 , 0.1854,\n",
       "       0.1915, 0.1773, 0.1783, 0.2418, 0.1661, 0.2428, 0.1915, 0.1781,\n",
       "       0.1915, 0.1801, 0.1915, 0.1977, 0.1945, 0.1811, 0.1698, 0.2147,\n",
       "       0.1724, 0.2039, 0.1915, 0.1774, 0.2206, 0.1846, 0.1787, 0.211 ,\n",
       "       0.175 ])"
      ]
     },
     "execution_count": 311,
     "metadata": {},
     "output_type": "execute_result"
    }
   ],
   "source": [
    "y_pred_p_rr = rr.predict(X_test_p)\n",
    "y_pred_p_rr"
   ]
  },
  {
   "cell_type": "code",
   "execution_count": 76,
   "metadata": {},
   "outputs": [],
   "source": [
    "y_pred_p = rr.predict(X_test_p)"
   ]
  },
  {
   "cell_type": "code",
   "execution_count": 77,
   "metadata": {},
   "outputs": [
    {
     "name": "stdout",
     "output_type": "stream",
     "text": [
      "[0.5723 0.5053 0.5449 0.6071 0.5386 0.5855 0.5612 0.5313 0.493  0.5758\n",
      " 0.5769 0.4983 0.557  0.5275 0.5141 0.5211 0.5011 0.5007 0.5762 0.5084\n",
      " 0.5178 0.4869 0.5777 0.4782 0.5062 0.477  0.5215 0.5749 0.5541 0.5379\n",
      " 0.5383 0.5512 0.4847 0.5269 0.5599 0.4769 0.4855 0.5663 0.553  0.5858\n",
      " 0.5537 0.5396 0.5491 0.4749 0.547  0.466  0.5271 0.4823 0.5483 0.5519\n",
      " 0.6255 0.5558 0.4877 0.5637 0.5093 0.5322 0.5166 0.5582 0.4785 0.4611\n",
      " 0.5797 0.5021 0.4598 0.5412 0.5116 0.5016 0.5148 0.5423 0.5565 0.5495\n",
      " 0.5549 0.5266 0.4915 0.5718 0.5432 0.5479 0.5262 0.5614 0.4692 0.5481\n",
      " 0.4587 0.5135 0.5274 0.5906 0.5627 0.5479 0.4369 0.556  0.5464]\n"
     ]
    }
   ],
   "source": [
    "print(y_pred_p)"
   ]
  },
  {
   "cell_type": "code",
   "execution_count": 78,
   "metadata": {},
   "outputs": [],
   "source": [
    "sub_df = pd.read_csv(r\"C:\\Users\\Namrata\\Downloads\\file\\sample_submission.csv\")\n",
    "sub_df['y2'] = y_pred_p\n",
    "sub_df.to_csv(r\"C:\\Users\\Namrata\\Downloads\\file\\sample_submission_rr_2.csv\",index=False)"
   ]
  },
  {
   "cell_type": "code",
   "execution_count": 69,
   "metadata": {},
   "outputs": [],
   "source": [
    "Id=df_test['Id'].head()"
   ]
  },
  {
   "cell_type": "code",
   "execution_count": 62,
   "metadata": {},
   "outputs": [],
   "source": [
    "y2 = y_pred_rr.tolist()"
   ]
  },
  {
   "cell_type": "code",
   "execution_count": 70,
   "metadata": {},
   "outputs": [],
   "source": [
    "submission = pd.DataFrame(Id,y2)"
   ]
  },
  {
   "cell_type": "code",
   "execution_count": 73,
   "metadata": {},
   "outputs": [],
   "source": [
    "\n",
    "submission = pd.DataFrame(y_pred_rr)\n",
    "submission.to_csv('Sample_submission.csv', index=False)"
   ]
  },
  {
   "cell_type": "code",
   "execution_count": 318,
   "metadata": {
    "id": "40bBFFXeJvmG"
   },
   "outputs": [
    {
     "name": "stdout",
     "output_type": "stream",
     "text": [
      "[22:46:09] WARNING: C:/Users/Administrator/workspace/xgboost-win64_release_1.3.0/src/objective/regression_obj.cu:170: reg:linear is now deprecated in favor of reg:squarederror.\n",
      "R squared: -0.02091084116168007\n"
     ]
    }
   ],
   "source": [
    "#Xgboost Regressor\n",
    "import xgboost as xgb\n",
    "xg_reg = xgb.XGBRegressor(objective ='reg:linear', colsample_bytree = 0.3, learning_rate = 0.01,\n",
    "                max_depth = 5, alpha = 10, n_estimators = 10,base_score=np.mean(y))\n",
    "xg_reg.fit(X_train,y_train)\n",
    "\n",
    "y_pred_xg = xg_reg.predict(X_test)\n",
    "print(\"R squared: {}\".format(r2_score(y_true=y_test,y_pred=y_pred_xg)))"
   ]
  },
  {
   "cell_type": "code",
   "execution_count": 319,
   "metadata": {},
   "outputs": [
    {
     "data": {
      "text/plain": [
       "array([0.53067946, 0.53067946, 0.53067946, 0.53067946, 0.53067946,\n",
       "       0.53067946, 0.53067946, 0.53067946, 0.53067946, 0.53067946,\n",
       "       0.53067946, 0.53067946, 0.53067946, 0.53067946, 0.53067946,\n",
       "       0.53067946, 0.53067946, 0.53067946, 0.53067946, 0.53067946,\n",
       "       0.53067946, 0.53067946, 0.53067946, 0.53067946, 0.53067946,\n",
       "       0.53067946, 0.53067946, 0.53067946, 0.53067946, 0.53067946,\n",
       "       0.53067946, 0.53067946, 0.53067946, 0.53067946, 0.53067946,\n",
       "       0.53067946, 0.53067946, 0.53067946, 0.53067946, 0.53067946,\n",
       "       0.53067946, 0.53067946, 0.53067946, 0.53067946, 0.53067946,\n",
       "       0.53067946, 0.53067946, 0.53067946, 0.53067946, 0.53067946,\n",
       "       0.53067946, 0.53067946, 0.53067946, 0.53067946, 0.53067946,\n",
       "       0.53067946, 0.53067946, 0.53067946, 0.53067946, 0.53067946,\n",
       "       0.53067946, 0.53067946, 0.53067946, 0.53067946, 0.53067946,\n",
       "       0.53067946, 0.53067946, 0.53067946, 0.53067946, 0.53067946,\n",
       "       0.53067946, 0.53067946, 0.53067946, 0.53067946, 0.53067946,\n",
       "       0.53067946, 0.53067946, 0.53067946, 0.53067946, 0.53067946,\n",
       "       0.53067946, 0.53067946, 0.53067946, 0.53067946, 0.53067946,\n",
       "       0.53067946, 0.53067946, 0.53067946, 0.53067946], dtype=float32)"
      ]
     },
     "execution_count": 319,
     "metadata": {},
     "output_type": "execute_result"
    }
   ],
   "source": [
    "y_pred_p_xg = xg_reg.predict(X_test_p)\n",
    "y_pred_p_xg"
   ]
  },
  {
   "cell_type": "code",
   "execution_count": 315,
   "metadata": {
    "id": "avQPnzaCQssD"
   },
   "outputs": [
    {
     "name": "stdout",
     "output_type": "stream",
     "text": [
      "R squared: -0.016044673378966978\n"
     ]
    }
   ],
   "source": [
    "from sklearn.svm import SVR\n",
    "svm = SVR(kernel = 'rbf')\n",
    "svm.fit(X_train, y_train)\n",
    "y_pred_svm = svm.predict(X_test)\n",
    "print(\"R squared: {}\".format(r2_score(y_true=y_test,y_pred=y_pred_svm)))"
   ]
  },
  {
   "cell_type": "code",
   "execution_count": 316,
   "metadata": {},
   "outputs": [
    {
     "data": {
      "text/plain": [
       "array([0.194 , 0.1865, 0.1872, 0.1842, 0.1915, 0.2225, 0.1915, 0.1973,\n",
       "       0.1649, 0.1991, 0.1915, 0.1915, 0.176 , 0.1918, 0.1857, 0.1918,\n",
       "       0.2176, 0.1903, 0.1816, 0.1912, 0.1723, 0.1943, 0.2418, 0.205 ,\n",
       "       0.1822, 0.2222, 0.2218, 0.1916, 0.1915, 0.1682, 0.1863, 0.1754,\n",
       "       0.1845, 0.1915, 0.1943, 0.1844, 0.1781, 0.181 , 0.1915, 0.181 ,\n",
       "       0.1887, 0.1943, 0.1978, 0.1871, 0.1943, 0.1859, 0.1855, 0.2299,\n",
       "       0.1771, 0.21  , 0.1809, 0.1762, 0.2207, 0.1828, 0.2058, 0.175 ,\n",
       "       0.1933, 0.1803, 0.196 , 0.1915, 0.1962, 0.2207, 0.175 , 0.1854,\n",
       "       0.1915, 0.1773, 0.1783, 0.2418, 0.1661, 0.2428, 0.1915, 0.1781,\n",
       "       0.1915, 0.1801, 0.1915, 0.1977, 0.1945, 0.1811, 0.1698, 0.2147,\n",
       "       0.1724, 0.2039, 0.1915, 0.1774, 0.2206, 0.1846, 0.1787, 0.211 ,\n",
       "       0.175 ])"
      ]
     },
     "execution_count": 316,
     "metadata": {},
     "output_type": "execute_result"
    }
   ],
   "source": [
    "y_pred_svm = svm.predict(X_test_p)\n",
    "y_pred_p_rr"
   ]
  },
  {
   "cell_type": "code",
   "execution_count": null,
   "metadata": {
    "id": "TE8myEaEJvmG"
   },
   "outputs": [],
   "source": [
    "# Create a list of model and name representation for running experiments\n",
    "\n",
    "model_ls = [(lr, 'Linear Regression'), (ls, 'Lasso'), (rd, 'Ridge'), (dr, 'Decision Tree Reg'), (rr, 'Random Forest Reg'),(xg_reg, 'XGboost'),(svm, \"SVR\") ]\n",
    "\n",
    "# Iterate ovwer each model\n",
    "for item in model_ls:\n",
    "    model = item[0]\n",
    "    name = item[1]\n",
    "    print(f'Running {name}')\n",
    "    print('')\n",
    "    \n",
    "    # Train the model\n",
    "    model.fit(X_train, y_train)\n",
    "    \n",
    "    # Predict the results\n",
    "    y_pred = model.predict(X_test) \n",
    "    \n",
    "    # Evaluate and printR2\n",
    "    print(\"R squared: {}\".format(r2_score(y_true=y_test,y_pred=y_pred)))    \n",
    "    print('-'*100)\n",
    "    print('')"
   ]
  }
 ],
 "metadata": {
  "accelerator": "GPU",
  "colab": {
   "collapsed_sections": [
    "JyrQ8RX5JvmD"
   ],
   "name": "Hackathon_1_VIF more than10.ipynb",
   "provenance": []
  },
  "kernelspec": {
   "display_name": "Python 3",
   "language": "python",
   "name": "python3"
  },
  "language_info": {
   "codemirror_mode": {
    "name": "ipython",
    "version": 3
   },
   "file_extension": ".py",
   "mimetype": "text/x-python",
   "name": "python",
   "nbconvert_exporter": "python",
   "pygments_lexer": "ipython3",
   "version": "3.8.3"
  }
 },
 "nbformat": 4,
 "nbformat_minor": 1
}
